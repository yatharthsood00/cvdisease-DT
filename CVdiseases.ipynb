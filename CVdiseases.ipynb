{
 "cells": [
  {
   "cell_type": "code",
   "execution_count": 1,
   "id": "0fdc48ff",
   "metadata": {},
   "outputs": [],
   "source": [
    "import pandas as pd\n",
    "import numpy as np\n",
    "import seaborn as sns\n",
    "import matplotlib.pyplot as plt #version 3.4.2 necessary, for just one feature though \n",
    "import scipy.optimize as opt\n",
    "from sklearn import preprocessing\n",
    "%matplotlib inline     \n",
    "sns.set(color_codes=True)\n",
    "import tensorflow as tf"
   ]
  },
  {
   "cell_type": "code",
   "execution_count": 2,
   "id": "dc9749af",
   "metadata": {},
   "outputs": [
    {
     "name": "stderr",
     "output_type": "stream",
     "text": [
      "--2021-08-06 00:58:44--  https://github.com/yatharthsood00/cvdisease-DT/blob/master/cardio_train.csv?raw=true\n",
      "Resolving github.com (github.com)... 13.234.210.38\n",
      "Connecting to github.com (github.com)|13.234.210.38|:443... connected.\n",
      "HTTP request sent, awaiting response... 302 Found\n",
      "Location: https://github.com/yatharthsood00/cvdisease-DT/raw/master/cardio_train.csv [following]\n",
      "--2021-08-06 00:58:44--  https://github.com/yatharthsood00/cvdisease-DT/raw/master/cardio_train.csv\n",
      "Reusing existing connection to github.com:443.\n",
      "HTTP request sent, awaiting response... 302 Found\n",
      "Location: https://raw.githubusercontent.com/yatharthsood00/cvdisease-DT/master/cardio_train.csv [following]\n",
      "--2021-08-06 00:58:45--  https://raw.githubusercontent.com/yatharthsood00/cvdisease-DT/master/cardio_train.csv\n",
      "Resolving raw.githubusercontent.com (raw.githubusercontent.com)... 185.199.110.133, 185.199.108.133, 185.199.111.133, ...\n",
      "Connecting to raw.githubusercontent.com (raw.githubusercontent.com)|185.199.110.133|:443... connected.\n",
      "HTTP request sent, awaiting response... 200 OK\n",
      "Length: 2941524 (2.8M) [text/plain]\n",
      "Saving to: 'cardio_train.csv'\n",
      "\n",
      "     0K .......... .......... .......... .......... ..........  1%  350K 8s\n",
      "    50K .......... .......... .......... .......... ..........  3% 1.26M 5s\n",
      "   100K .......... .......... .......... .......... ..........  5% 1.90M 4s\n",
      "   150K .......... .......... .......... .......... ..........  6% 1.68M 3s\n",
      "   200K .......... .......... .......... .......... ..........  8% 3.45M 3s\n",
      "   250K .......... .......... .......... .......... .......... 10% 2.13M 2s\n",
      "   300K .......... .......... .......... .......... .......... 12% 1.96M 2s\n",
      "   350K .......... .......... .......... .......... .......... 13% 4.00M 2s\n",
      "   400K .......... .......... .......... .......... .......... 15% 5.50M 2s\n",
      "   450K .......... .......... .......... .......... .......... 17% 1.10M 2s\n",
      "   500K .......... .......... .......... .......... .......... 19% 16.4M 2s\n",
      "   550K .......... .......... .......... .......... .......... 20% 4.43M 1s\n",
      "   600K .......... .......... .......... .......... .......... 22% 28.8M 1s\n",
      "   650K .......... .......... .......... .......... .......... 24% 1.94M 1s\n",
      "   700K .......... .......... .......... .......... .......... 26% 2.94M 1s\n",
      "   750K .......... .......... .......... .......... .......... 27% 3.39M 1s\n",
      "   800K .......... .......... .......... .......... .......... 29% 2.38M 1s\n",
      "   850K .......... .......... .......... .......... .......... 31% 6.55M 1s\n",
      "   900K .......... .......... .......... .......... .......... 33% 1.13M 1s\n",
      "   950K .......... .......... .......... .......... .......... 34% 2.25M 1s\n",
      "  1000K .......... .......... .......... .......... .......... 36% 11.1M 1s\n",
      "  1050K .......... .......... .......... .......... .......... 38% 3.14M 1s\n",
      "  1100K .......... .......... .......... .......... .......... 40% 3.27M 1s\n",
      "  1150K .......... .......... .......... .......... .......... 41% 3.65M 1s\n",
      "  1200K .......... .......... .......... .......... .......... 43% 3.15M 1s\n",
      "  1250K .......... .......... .......... .......... .......... 45% 4.96M 1s\n",
      "  1300K .......... .......... .......... .......... .......... 46% 1.20M 1s\n",
      "  1350K .......... .......... .......... .......... .......... 48% 8.99M 1s\n",
      "  1400K .......... .......... .......... .......... .......... 50% 2.58M 1s\n",
      "  1450K .......... .......... .......... .......... .......... 52% 3.28M 1s\n",
      "  1500K .......... .......... .......... .......... .......... 53% 3.91M 1s\n",
      "  1550K .......... .......... .......... .......... .......... 55% 1.11M 1s\n",
      "  1600K .......... .......... .......... .......... .......... 57% 14.4M 1s\n",
      "  1650K .......... .......... .......... .......... .......... 59% 10.1M 1s\n",
      "  1700K .......... .......... .......... .......... .......... 60% 1.94M 0s\n",
      "  1750K .......... .......... .......... .......... .......... 62% 4.87M 0s\n",
      "  1800K .......... .......... .......... .......... .......... 64% 7.80M 0s\n",
      "  1850K .......... .......... .......... .......... .......... 66% 3.63M 0s\n",
      "  1900K .......... .......... .......... .......... .......... 67% 2.34M 0s\n",
      "  1950K .......... .......... .......... .......... .......... 69% 1.24M 0s\n",
      "  2000K .......... .......... .......... .......... .......... 71% 12.3M 0s\n",
      "  2050K .......... .......... .......... .......... .......... 73% 13.8M 0s\n",
      "  2100K .......... .......... .......... .......... .......... 74%  896K 0s\n",
      "  2150K .......... .......... .......... .......... .......... 76% 3.01M 0s\n",
      "  2200K .......... .......... .......... .......... .......... 78% 12.1M 0s\n",
      "  2250K .......... .......... .......... .......... .......... 80% 6.52M 0s\n",
      "  2300K .......... .......... .......... .......... .......... 81% 1.36M 0s\n",
      "  2350K .......... .......... .......... .......... .......... 83% 5.09M 0s\n",
      "  2400K .......... .......... .......... .......... .......... 85%  192M 0s\n",
      "  2450K .......... .......... .......... .......... .......... 87% 2.27M 0s\n",
      "  2500K .......... .......... .......... .......... .......... 88% 2.80M 0s\n",
      "  2550K .......... .......... .......... .......... .......... 90% 2.33M 0s\n",
      "  2600K .......... .......... .......... .......... .......... 92% 2.21M 0s\n",
      "  2650K .......... .......... .......... .......... .......... 93% 10.7M 0s\n",
      "  2700K .......... .......... .......... .......... .......... 95% 1.54M 0s\n",
      "  2750K .......... .......... .......... .......... .......... 97% 9.09M 0s\n",
      "  2800K .......... .......... .......... .......... .......... 99% 6.03M 0s\n",
      "  2850K .......... .......... ..                              100% 6.69M=1.1s\n",
      "\n",
      "2021-08-06 00:58:47 (2.47 MB/s) - 'cardio_train.csv' saved [2941524/2941524]\n",
      "\n"
     ]
    }
   ],
   "source": [
    "!wget -O cardio_train.csv https://github.com/yatharthsood00/cvdisease-DT/blob/master/cardio_train.csv?raw=true"
   ]
  },
  {
   "cell_type": "code",
   "execution_count": 3,
   "id": "d867e991",
   "metadata": {},
   "outputs": [
    {
     "data": {
      "text/html": [
       "<div>\n",
       "<style scoped>\n",
       "    .dataframe tbody tr th:only-of-type {\n",
       "        vertical-align: middle;\n",
       "    }\n",
       "\n",
       "    .dataframe tbody tr th {\n",
       "        vertical-align: top;\n",
       "    }\n",
       "\n",
       "    .dataframe thead th {\n",
       "        text-align: right;\n",
       "    }\n",
       "</style>\n",
       "<table border=\"1\" class=\"dataframe\">\n",
       "  <thead>\n",
       "    <tr style=\"text-align: right;\">\n",
       "      <th></th>\n",
       "      <th>id</th>\n",
       "      <th>age</th>\n",
       "      <th>gender</th>\n",
       "      <th>height</th>\n",
       "      <th>weight</th>\n",
       "      <th>ap_hi</th>\n",
       "      <th>ap_lo</th>\n",
       "      <th>cholesterol</th>\n",
       "      <th>gluc</th>\n",
       "      <th>smoke</th>\n",
       "      <th>alco</th>\n",
       "      <th>active</th>\n",
       "      <th>cardio</th>\n",
       "    </tr>\n",
       "  </thead>\n",
       "  <tbody>\n",
       "    <tr>\n",
       "      <th>0</th>\n",
       "      <td>0</td>\n",
       "      <td>18393</td>\n",
       "      <td>2</td>\n",
       "      <td>168</td>\n",
       "      <td>62.0</td>\n",
       "      <td>110</td>\n",
       "      <td>80</td>\n",
       "      <td>1</td>\n",
       "      <td>1</td>\n",
       "      <td>0</td>\n",
       "      <td>0</td>\n",
       "      <td>1</td>\n",
       "      <td>0</td>\n",
       "    </tr>\n",
       "    <tr>\n",
       "      <th>1</th>\n",
       "      <td>1</td>\n",
       "      <td>20228</td>\n",
       "      <td>1</td>\n",
       "      <td>156</td>\n",
       "      <td>85.0</td>\n",
       "      <td>140</td>\n",
       "      <td>90</td>\n",
       "      <td>3</td>\n",
       "      <td>1</td>\n",
       "      <td>0</td>\n",
       "      <td>0</td>\n",
       "      <td>1</td>\n",
       "      <td>1</td>\n",
       "    </tr>\n",
       "    <tr>\n",
       "      <th>2</th>\n",
       "      <td>2</td>\n",
       "      <td>18857</td>\n",
       "      <td>1</td>\n",
       "      <td>165</td>\n",
       "      <td>64.0</td>\n",
       "      <td>130</td>\n",
       "      <td>70</td>\n",
       "      <td>3</td>\n",
       "      <td>1</td>\n",
       "      <td>0</td>\n",
       "      <td>0</td>\n",
       "      <td>0</td>\n",
       "      <td>1</td>\n",
       "    </tr>\n",
       "    <tr>\n",
       "      <th>3</th>\n",
       "      <td>3</td>\n",
       "      <td>17623</td>\n",
       "      <td>2</td>\n",
       "      <td>169</td>\n",
       "      <td>82.0</td>\n",
       "      <td>150</td>\n",
       "      <td>100</td>\n",
       "      <td>1</td>\n",
       "      <td>1</td>\n",
       "      <td>0</td>\n",
       "      <td>0</td>\n",
       "      <td>1</td>\n",
       "      <td>1</td>\n",
       "    </tr>\n",
       "    <tr>\n",
       "      <th>4</th>\n",
       "      <td>4</td>\n",
       "      <td>17474</td>\n",
       "      <td>1</td>\n",
       "      <td>156</td>\n",
       "      <td>56.0</td>\n",
       "      <td>100</td>\n",
       "      <td>60</td>\n",
       "      <td>1</td>\n",
       "      <td>1</td>\n",
       "      <td>0</td>\n",
       "      <td>0</td>\n",
       "      <td>0</td>\n",
       "      <td>0</td>\n",
       "    </tr>\n",
       "  </tbody>\n",
       "</table>\n",
       "</div>"
      ],
      "text/plain": [
       "   id    age  gender  height  weight  ap_hi  ap_lo  cholesterol  gluc  smoke  \\\n",
       "0   0  18393       2     168    62.0    110     80            1     1      0   \n",
       "1   1  20228       1     156    85.0    140     90            3     1      0   \n",
       "2   2  18857       1     165    64.0    130     70            3     1      0   \n",
       "3   3  17623       2     169    82.0    150    100            1     1      0   \n",
       "4   4  17474       1     156    56.0    100     60            1     1      0   \n",
       "\n",
       "   alco  active  cardio  \n",
       "0     0       1       0  \n",
       "1     0       1       1  \n",
       "2     0       0       1  \n",
       "3     0       1       1  \n",
       "4     0       0       0  "
      ]
     },
     "execution_count": 3,
     "metadata": {},
     "output_type": "execute_result"
    }
   ],
   "source": [
    "cv = pd.read_csv(\"cardio_train.csv\", delimiter = ';') #kaggle won't let you use !wget so easily now, so here we are\n",
    "cv.head()"
   ]
  },
  {
   "cell_type": "code",
   "execution_count": 4,
   "id": "ae3b339d",
   "metadata": {},
   "outputs": [
    {
     "name": "stdout",
     "output_type": "stream",
     "text": [
      "<class 'pandas.core.frame.DataFrame'>\n",
      "RangeIndex: 70000 entries, 0 to 69999\n",
      "Data columns (total 13 columns):\n",
      " #   Column       Non-Null Count  Dtype  \n",
      "---  ------       --------------  -----  \n",
      " 0   id           70000 non-null  int64  \n",
      " 1   age          70000 non-null  int64  \n",
      " 2   gender       70000 non-null  int64  \n",
      " 3   height       70000 non-null  int64  \n",
      " 4   weight       70000 non-null  float64\n",
      " 5   ap_hi        70000 non-null  int64  \n",
      " 6   ap_lo        70000 non-null  int64  \n",
      " 7   cholesterol  70000 non-null  int64  \n",
      " 8   gluc         70000 non-null  int64  \n",
      " 9   smoke        70000 non-null  int64  \n",
      " 10  alco         70000 non-null  int64  \n",
      " 11  active       70000 non-null  int64  \n",
      " 12  cardio       70000 non-null  int64  \n",
      "dtypes: float64(1), int64(12)\n",
      "memory usage: 6.9 MB\n"
     ]
    }
   ],
   "source": [
    "cv.info()"
   ]
  },
  {
   "cell_type": "markdown",
   "id": "fda25c86",
   "metadata": {},
   "source": [
    "### Outliers"
   ]
  },
  {
   "cell_type": "markdown",
   "id": "4a0dd3f3",
   "metadata": {},
   "source": [
    "We can expect outliers in age, height and weight. But first, we will look at blood pressures"
   ]
  },
  {
   "cell_type": "code",
   "execution_count": 5,
   "id": "3de14ac9",
   "metadata": {},
   "outputs": [
    {
     "data": {
      "text/html": [
       "<div>\n",
       "<style scoped>\n",
       "    .dataframe tbody tr th:only-of-type {\n",
       "        vertical-align: middle;\n",
       "    }\n",
       "\n",
       "    .dataframe tbody tr th {\n",
       "        vertical-align: top;\n",
       "    }\n",
       "\n",
       "    .dataframe thead th {\n",
       "        text-align: right;\n",
       "    }\n",
       "</style>\n",
       "<table border=\"1\" class=\"dataframe\">\n",
       "  <thead>\n",
       "    <tr style=\"text-align: right;\">\n",
       "      <th></th>\n",
       "      <th>id</th>\n",
       "      <th>age</th>\n",
       "      <th>gender</th>\n",
       "      <th>height</th>\n",
       "      <th>weight</th>\n",
       "      <th>ap_hi</th>\n",
       "      <th>ap_lo</th>\n",
       "      <th>cholesterol</th>\n",
       "      <th>gluc</th>\n",
       "      <th>smoke</th>\n",
       "      <th>alco</th>\n",
       "      <th>active</th>\n",
       "      <th>cardio</th>\n",
       "    </tr>\n",
       "  </thead>\n",
       "  <tbody>\n",
       "    <tr>\n",
       "      <th>count</th>\n",
       "      <td>70000.000000</td>\n",
       "      <td>70000.000000</td>\n",
       "      <td>70000.000000</td>\n",
       "      <td>70000.000000</td>\n",
       "      <td>70000.000000</td>\n",
       "      <td>70000.000000</td>\n",
       "      <td>70000.000000</td>\n",
       "      <td>70000.000000</td>\n",
       "      <td>70000.000000</td>\n",
       "      <td>70000.000000</td>\n",
       "      <td>70000.000000</td>\n",
       "      <td>70000.000000</td>\n",
       "      <td>70000.000000</td>\n",
       "    </tr>\n",
       "    <tr>\n",
       "      <th>mean</th>\n",
       "      <td>49972.419900</td>\n",
       "      <td>19468.865814</td>\n",
       "      <td>1.349571</td>\n",
       "      <td>164.359229</td>\n",
       "      <td>74.205690</td>\n",
       "      <td>128.817286</td>\n",
       "      <td>96.630414</td>\n",
       "      <td>1.366871</td>\n",
       "      <td>1.226457</td>\n",
       "      <td>0.088129</td>\n",
       "      <td>0.053771</td>\n",
       "      <td>0.803729</td>\n",
       "      <td>0.499700</td>\n",
       "    </tr>\n",
       "    <tr>\n",
       "      <th>std</th>\n",
       "      <td>28851.302323</td>\n",
       "      <td>2467.251667</td>\n",
       "      <td>0.476838</td>\n",
       "      <td>8.210126</td>\n",
       "      <td>14.395757</td>\n",
       "      <td>154.011419</td>\n",
       "      <td>188.472530</td>\n",
       "      <td>0.680250</td>\n",
       "      <td>0.572270</td>\n",
       "      <td>0.283484</td>\n",
       "      <td>0.225568</td>\n",
       "      <td>0.397179</td>\n",
       "      <td>0.500003</td>\n",
       "    </tr>\n",
       "    <tr>\n",
       "      <th>min</th>\n",
       "      <td>0.000000</td>\n",
       "      <td>10798.000000</td>\n",
       "      <td>1.000000</td>\n",
       "      <td>55.000000</td>\n",
       "      <td>10.000000</td>\n",
       "      <td>-150.000000</td>\n",
       "      <td>-70.000000</td>\n",
       "      <td>1.000000</td>\n",
       "      <td>1.000000</td>\n",
       "      <td>0.000000</td>\n",
       "      <td>0.000000</td>\n",
       "      <td>0.000000</td>\n",
       "      <td>0.000000</td>\n",
       "    </tr>\n",
       "    <tr>\n",
       "      <th>25%</th>\n",
       "      <td>25006.750000</td>\n",
       "      <td>17664.000000</td>\n",
       "      <td>1.000000</td>\n",
       "      <td>159.000000</td>\n",
       "      <td>65.000000</td>\n",
       "      <td>120.000000</td>\n",
       "      <td>80.000000</td>\n",
       "      <td>1.000000</td>\n",
       "      <td>1.000000</td>\n",
       "      <td>0.000000</td>\n",
       "      <td>0.000000</td>\n",
       "      <td>1.000000</td>\n",
       "      <td>0.000000</td>\n",
       "    </tr>\n",
       "    <tr>\n",
       "      <th>50%</th>\n",
       "      <td>50001.500000</td>\n",
       "      <td>19703.000000</td>\n",
       "      <td>1.000000</td>\n",
       "      <td>165.000000</td>\n",
       "      <td>72.000000</td>\n",
       "      <td>120.000000</td>\n",
       "      <td>80.000000</td>\n",
       "      <td>1.000000</td>\n",
       "      <td>1.000000</td>\n",
       "      <td>0.000000</td>\n",
       "      <td>0.000000</td>\n",
       "      <td>1.000000</td>\n",
       "      <td>0.000000</td>\n",
       "    </tr>\n",
       "    <tr>\n",
       "      <th>75%</th>\n",
       "      <td>74889.250000</td>\n",
       "      <td>21327.000000</td>\n",
       "      <td>2.000000</td>\n",
       "      <td>170.000000</td>\n",
       "      <td>82.000000</td>\n",
       "      <td>140.000000</td>\n",
       "      <td>90.000000</td>\n",
       "      <td>2.000000</td>\n",
       "      <td>1.000000</td>\n",
       "      <td>0.000000</td>\n",
       "      <td>0.000000</td>\n",
       "      <td>1.000000</td>\n",
       "      <td>1.000000</td>\n",
       "    </tr>\n",
       "    <tr>\n",
       "      <th>max</th>\n",
       "      <td>99999.000000</td>\n",
       "      <td>23713.000000</td>\n",
       "      <td>2.000000</td>\n",
       "      <td>250.000000</td>\n",
       "      <td>200.000000</td>\n",
       "      <td>16020.000000</td>\n",
       "      <td>11000.000000</td>\n",
       "      <td>3.000000</td>\n",
       "      <td>3.000000</td>\n",
       "      <td>1.000000</td>\n",
       "      <td>1.000000</td>\n",
       "      <td>1.000000</td>\n",
       "      <td>1.000000</td>\n",
       "    </tr>\n",
       "  </tbody>\n",
       "</table>\n",
       "</div>"
      ],
      "text/plain": [
       "                 id           age        gender        height        weight  \\\n",
       "count  70000.000000  70000.000000  70000.000000  70000.000000  70000.000000   \n",
       "mean   49972.419900  19468.865814      1.349571    164.359229     74.205690   \n",
       "std    28851.302323   2467.251667      0.476838      8.210126     14.395757   \n",
       "min        0.000000  10798.000000      1.000000     55.000000     10.000000   \n",
       "25%    25006.750000  17664.000000      1.000000    159.000000     65.000000   \n",
       "50%    50001.500000  19703.000000      1.000000    165.000000     72.000000   \n",
       "75%    74889.250000  21327.000000      2.000000    170.000000     82.000000   \n",
       "max    99999.000000  23713.000000      2.000000    250.000000    200.000000   \n",
       "\n",
       "              ap_hi         ap_lo   cholesterol          gluc         smoke  \\\n",
       "count  70000.000000  70000.000000  70000.000000  70000.000000  70000.000000   \n",
       "mean     128.817286     96.630414      1.366871      1.226457      0.088129   \n",
       "std      154.011419    188.472530      0.680250      0.572270      0.283484   \n",
       "min     -150.000000    -70.000000      1.000000      1.000000      0.000000   \n",
       "25%      120.000000     80.000000      1.000000      1.000000      0.000000   \n",
       "50%      120.000000     80.000000      1.000000      1.000000      0.000000   \n",
       "75%      140.000000     90.000000      2.000000      1.000000      0.000000   \n",
       "max    16020.000000  11000.000000      3.000000      3.000000      1.000000   \n",
       "\n",
       "               alco        active        cardio  \n",
       "count  70000.000000  70000.000000  70000.000000  \n",
       "mean       0.053771      0.803729      0.499700  \n",
       "std        0.225568      0.397179      0.500003  \n",
       "min        0.000000      0.000000      0.000000  \n",
       "25%        0.000000      1.000000      0.000000  \n",
       "50%        0.000000      1.000000      0.000000  \n",
       "75%        0.000000      1.000000      1.000000  \n",
       "max        1.000000      1.000000      1.000000  "
      ]
     },
     "execution_count": 5,
     "metadata": {},
     "output_type": "execute_result"
    }
   ],
   "source": [
    "cv.describe()"
   ]
  },
  {
   "cell_type": "markdown",
   "id": "82f65dc6",
   "metadata": {},
   "source": [
    "Some outliers can be seen in ap_lo (diastolic blood pressure) and ap_hi (systolic blood pressure), most likely erroneous entries (a BP of 200/11000 or is very much unrealistic). We take a look at these entries below.\n",
    "\n",
    "The condition for low BP (Hypotension) is a BP lower than 90/60, and for a Hypertensive Crisis (extremely high BP), it is 180/120. We will take all those cases into account, as well as some anomalous readings that are possible to achieve, while discarding impossible readings."
   ]
  },
  {
   "cell_type": "code",
   "execution_count": 6,
   "id": "2441e31b",
   "metadata": {},
   "outputs": [
    {
     "data": {
      "text/plain": [
       "(1006, 13)"
      ]
     },
     "execution_count": 6,
     "metadata": {},
     "output_type": "execute_result"
    }
   ],
   "source": [
    "damn_lo = cv.loc[(cv['ap_lo'] > 200) | (cv['ap_lo'] < 30)]\n",
    "damn_lo = damn_lo.sort_values(by='ap_lo', ascending=True)\n",
    "damn_lo.shape"
   ]
  },
  {
   "cell_type": "code",
   "execution_count": 7,
   "id": "30bff3e4",
   "metadata": {},
   "outputs": [
    {
     "data": {
      "text/plain": [
       "(228, 13)"
      ]
     },
     "execution_count": 7,
     "metadata": {},
     "output_type": "execute_result"
    }
   ],
   "source": [
    "damn_hi = cv.loc[(cv['ap_hi'] > 250) | (cv['ap_hi'] < 60)]\n",
    "damn_hi = damn_hi.sort_values(by='ap_hi', ascending=False)\n",
    "damn_hi.shape"
   ]
  },
  {
   "cell_type": "markdown",
   "id": "17bea8b0",
   "metadata": {},
   "source": [
    "We can discard these entries from our dataset and proceed, without medically impossible outliers. This rather simplistic approach will keep outliers that are possible but are of particular interest (like people with high BP, as they have a very high risk of cardiovascular disease) intact."
   ]
  },
  {
   "cell_type": "code",
   "execution_count": 8,
   "id": "b691ccc4",
   "metadata": {},
   "outputs": [],
   "source": [
    "d = [damn_lo, damn_hi]\n",
    "damn = pd.concat(d)"
   ]
  },
  {
   "cell_type": "code",
   "execution_count": 9,
   "id": "eb300010",
   "metadata": {},
   "outputs": [],
   "source": [
    "cv = cv[cv['ap_lo'] < cv['ap_hi']]"
   ]
  },
  {
   "cell_type": "code",
   "execution_count": 10,
   "id": "655f4ebe",
   "metadata": {},
   "outputs": [
    {
     "data": {
      "text/plain": [
       "(68678, 13)"
      ]
     },
     "execution_count": 10,
     "metadata": {},
     "output_type": "execute_result"
    }
   ],
   "source": [
    "damn_bp = cv['id'].isin(damn['id'])\n",
    "cv.drop(cv[damn_bp].index, inplace = True)\n",
    "cv.shape"
   ]
  },
  {
   "cell_type": "code",
   "execution_count": 11,
   "id": "5b7e0f18",
   "metadata": {},
   "outputs": [
    {
     "data": {
      "text/html": [
       "<div>\n",
       "<style scoped>\n",
       "    .dataframe tbody tr th:only-of-type {\n",
       "        vertical-align: middle;\n",
       "    }\n",
       "\n",
       "    .dataframe tbody tr th {\n",
       "        vertical-align: top;\n",
       "    }\n",
       "\n",
       "    .dataframe thead th {\n",
       "        text-align: right;\n",
       "    }\n",
       "</style>\n",
       "<table border=\"1\" class=\"dataframe\">\n",
       "  <thead>\n",
       "    <tr style=\"text-align: right;\">\n",
       "      <th></th>\n",
       "      <th>id</th>\n",
       "      <th>age</th>\n",
       "      <th>gender</th>\n",
       "      <th>height</th>\n",
       "      <th>weight</th>\n",
       "      <th>ap_hi</th>\n",
       "      <th>ap_lo</th>\n",
       "      <th>cholesterol</th>\n",
       "      <th>gluc</th>\n",
       "      <th>smoke</th>\n",
       "      <th>alco</th>\n",
       "      <th>active</th>\n",
       "      <th>cardio</th>\n",
       "    </tr>\n",
       "  </thead>\n",
       "  <tbody>\n",
       "    <tr>\n",
       "      <th>0</th>\n",
       "      <td>0</td>\n",
       "      <td>18393</td>\n",
       "      <td>2</td>\n",
       "      <td>0.444661</td>\n",
       "      <td>-0.845623</td>\n",
       "      <td>110</td>\n",
       "      <td>80</td>\n",
       "      <td>1</td>\n",
       "      <td>1</td>\n",
       "      <td>0</td>\n",
       "      <td>0</td>\n",
       "      <td>1</td>\n",
       "      <td>0</td>\n",
       "    </tr>\n",
       "    <tr>\n",
       "      <th>1</th>\n",
       "      <td>1</td>\n",
       "      <td>20228</td>\n",
       "      <td>1</td>\n",
       "      <td>-1.021712</td>\n",
       "      <td>0.759252</td>\n",
       "      <td>140</td>\n",
       "      <td>90</td>\n",
       "      <td>3</td>\n",
       "      <td>1</td>\n",
       "      <td>0</td>\n",
       "      <td>0</td>\n",
       "      <td>1</td>\n",
       "      <td>1</td>\n",
       "    </tr>\n",
       "    <tr>\n",
       "      <th>2</th>\n",
       "      <td>2</td>\n",
       "      <td>18857</td>\n",
       "      <td>1</td>\n",
       "      <td>0.078068</td>\n",
       "      <td>-0.706069</td>\n",
       "      <td>130</td>\n",
       "      <td>70</td>\n",
       "      <td>3</td>\n",
       "      <td>1</td>\n",
       "      <td>0</td>\n",
       "      <td>0</td>\n",
       "      <td>0</td>\n",
       "      <td>1</td>\n",
       "    </tr>\n",
       "    <tr>\n",
       "      <th>3</th>\n",
       "      <td>3</td>\n",
       "      <td>17623</td>\n",
       "      <td>2</td>\n",
       "      <td>0.566859</td>\n",
       "      <td>0.549920</td>\n",
       "      <td>150</td>\n",
       "      <td>100</td>\n",
       "      <td>1</td>\n",
       "      <td>1</td>\n",
       "      <td>0</td>\n",
       "      <td>0</td>\n",
       "      <td>1</td>\n",
       "      <td>1</td>\n",
       "    </tr>\n",
       "    <tr>\n",
       "      <th>4</th>\n",
       "      <td>4</td>\n",
       "      <td>17474</td>\n",
       "      <td>1</td>\n",
       "      <td>-1.021712</td>\n",
       "      <td>-1.264286</td>\n",
       "      <td>100</td>\n",
       "      <td>60</td>\n",
       "      <td>1</td>\n",
       "      <td>1</td>\n",
       "      <td>0</td>\n",
       "      <td>0</td>\n",
       "      <td>0</td>\n",
       "      <td>0</td>\n",
       "    </tr>\n",
       "  </tbody>\n",
       "</table>\n",
       "</div>"
      ],
      "text/plain": [
       "   id    age  gender    height    weight  ap_hi  ap_lo  cholesterol  gluc  \\\n",
       "0   0  18393       2  0.444661 -0.845623    110     80            1     1   \n",
       "1   1  20228       1 -1.021712  0.759252    140     90            3     1   \n",
       "2   2  18857       1  0.078068 -0.706069    130     70            3     1   \n",
       "3   3  17623       2  0.566859  0.549920    150    100            1     1   \n",
       "4   4  17474       1 -1.021712 -1.264286    100     60            1     1   \n",
       "\n",
       "   smoke  alco  active  cardio  \n",
       "0      0     0       1       0  \n",
       "1      0     0       1       1  \n",
       "2      0     0       0       1  \n",
       "3      0     0       1       1  \n",
       "4      0     0       0       0  "
      ]
     },
     "execution_count": 11,
     "metadata": {},
     "output_type": "execute_result"
    }
   ],
   "source": [
    "from sklearn.preprocessing import StandardScaler\n",
    "scaler = StandardScaler()\n",
    "cv[['height', 'weight']] = scaler.fit_transform(cv[['height', 'weight']])\n",
    "cv.head()"
   ]
  },
  {
   "cell_type": "code",
   "execution_count": 12,
   "id": "b298d376",
   "metadata": {},
   "outputs": [
    {
     "data": {
      "text/html": [
       "<div>\n",
       "<style scoped>\n",
       "    .dataframe tbody tr th:only-of-type {\n",
       "        vertical-align: middle;\n",
       "    }\n",
       "\n",
       "    .dataframe tbody tr th {\n",
       "        vertical-align: top;\n",
       "    }\n",
       "\n",
       "    .dataframe thead th {\n",
       "        text-align: right;\n",
       "    }\n",
       "</style>\n",
       "<table border=\"1\" class=\"dataframe\">\n",
       "  <thead>\n",
       "    <tr style=\"text-align: right;\">\n",
       "      <th></th>\n",
       "      <th>id</th>\n",
       "      <th>features</th>\n",
       "      <th>vals</th>\n",
       "    </tr>\n",
       "  </thead>\n",
       "  <tbody>\n",
       "    <tr>\n",
       "      <th>0</th>\n",
       "      <td>0</td>\n",
       "      <td>height</td>\n",
       "      <td>0.444661</td>\n",
       "    </tr>\n",
       "    <tr>\n",
       "      <th>1</th>\n",
       "      <td>1</td>\n",
       "      <td>height</td>\n",
       "      <td>-1.021712</td>\n",
       "    </tr>\n",
       "    <tr>\n",
       "      <th>2</th>\n",
       "      <td>2</td>\n",
       "      <td>height</td>\n",
       "      <td>0.078068</td>\n",
       "    </tr>\n",
       "    <tr>\n",
       "      <th>3</th>\n",
       "      <td>3</td>\n",
       "      <td>height</td>\n",
       "      <td>0.566859</td>\n",
       "    </tr>\n",
       "    <tr>\n",
       "      <th>4</th>\n",
       "      <td>4</td>\n",
       "      <td>height</td>\n",
       "      <td>-1.021712</td>\n",
       "    </tr>\n",
       "    <tr>\n",
       "      <th>...</th>\n",
       "      <td>...</td>\n",
       "      <td>...</td>\n",
       "      <td>...</td>\n",
       "    </tr>\n",
       "    <tr>\n",
       "      <th>137351</th>\n",
       "      <td>99993</td>\n",
       "      <td>weight</td>\n",
       "      <td>0.131257</td>\n",
       "    </tr>\n",
       "    <tr>\n",
       "      <th>137352</th>\n",
       "      <td>99995</td>\n",
       "      <td>weight</td>\n",
       "      <td>3.620115</td>\n",
       "    </tr>\n",
       "    <tr>\n",
       "      <th>137353</th>\n",
       "      <td>99996</td>\n",
       "      <td>weight</td>\n",
       "      <td>2.154795</td>\n",
       "    </tr>\n",
       "    <tr>\n",
       "      <th>137354</th>\n",
       "      <td>99998</td>\n",
       "      <td>weight</td>\n",
       "      <td>-0.147852</td>\n",
       "    </tr>\n",
       "    <tr>\n",
       "      <th>137355</th>\n",
       "      <td>99999</td>\n",
       "      <td>weight</td>\n",
       "      <td>-0.147852</td>\n",
       "    </tr>\n",
       "  </tbody>\n",
       "</table>\n",
       "<p>137356 rows × 3 columns</p>\n",
       "</div>"
      ],
      "text/plain": [
       "           id features      vals\n",
       "0           0   height  0.444661\n",
       "1           1   height -1.021712\n",
       "2           2   height  0.078068\n",
       "3           3   height  0.566859\n",
       "4           4   height -1.021712\n",
       "...       ...      ...       ...\n",
       "137351  99993   weight  0.131257\n",
       "137352  99995   weight  3.620115\n",
       "137353  99996   weight  2.154795\n",
       "137354  99998   weight -0.147852\n",
       "137355  99999   weight -0.147852\n",
       "\n",
       "[137356 rows x 3 columns]"
      ]
     },
     "execution_count": 12,
     "metadata": {},
     "output_type": "execute_result"
    }
   ],
   "source": [
    "cv_melt = pd.melt(cv, id_vars=['id'], value_vars = ['height', 'weight'], var_name = 'features', value_name = 'vals')\n",
    "cv_melt"
   ]
  },
  {
   "cell_type": "code",
   "execution_count": 13,
   "id": "f8f6d675",
   "metadata": {},
   "outputs": [
    {
     "data": {
      "text/plain": [
       "<AxesSubplot:xlabel='features', ylabel='vals'>"
      ]
     },
     "execution_count": 13,
     "metadata": {},
     "output_type": "execute_result"
    },
    {
     "data": {
      "image/png": "[encoded data removed]",
      "text/plain": [
       "<Figure size 432x288 with 1 Axes>"
      ]
     },
     "metadata": {},
     "output_type": "display_data"
    }
   ],
   "source": [
    "sns.boxplot(x = 'features', y = 'vals', data = cv_melt)"
   ]
  },
  {
   "cell_type": "code",
   "execution_count": 14,
   "id": "bb0360b2",
   "metadata": {},
   "outputs": [
    {
     "data": {
      "text/html": [
       "<div>\n",
       "<style scoped>\n",
       "    .dataframe tbody tr th:only-of-type {\n",
       "        vertical-align: middle;\n",
       "    }\n",
       "\n",
       "    .dataframe tbody tr th {\n",
       "        vertical-align: top;\n",
       "    }\n",
       "\n",
       "    .dataframe thead th {\n",
       "        text-align: right;\n",
       "    }\n",
       "</style>\n",
       "<table border=\"1\" class=\"dataframe\">\n",
       "  <thead>\n",
       "    <tr style=\"text-align: right;\">\n",
       "      <th></th>\n",
       "      <th>height</th>\n",
       "      <th>weight</th>\n",
       "    </tr>\n",
       "  </thead>\n",
       "  <tbody>\n",
       "    <tr>\n",
       "      <th>lower_bound</th>\n",
       "      <td>-7.253797</td>\n",
       "      <td>-7.474454</td>\n",
       "    </tr>\n",
       "    <tr>\n",
       "      <th>upper_bound</th>\n",
       "      <td>7.409932</td>\n",
       "      <td>8.155631</td>\n",
       "    </tr>\n",
       "  </tbody>\n",
       "</table>\n",
       "</div>"
      ],
      "text/plain": [
       "               height    weight\n",
       "lower_bound -7.253797 -7.474454\n",
       "upper_bound  7.409932  8.155631"
      ]
     },
     "execution_count": 14,
     "metadata": {},
     "output_type": "execute_result"
    }
   ],
   "source": [
    "hwlist = ['height', 'weight']\n",
    "bound = pd.DataFrame(index=[\"lower_bound\", \"upper_bound\"])\n",
    "for each in hwlist:\n",
    "    Q1 = cv[each].quantile(0.025)\n",
    "    Q3 = cv[each].quantile(0.975)\n",
    "    IQR = Q3 - Q1\n",
    "    lower_bound = Q1 - 1.5*IQR\n",
    "    upper_bound = Q3 + 1.5*IQR\n",
    "    bound[each] = [lower_bound, upper_bound]\n",
    "bound"
   ]
  },
  {
   "cell_type": "code",
   "execution_count": 15,
   "id": "d321226e",
   "metadata": {},
   "outputs": [],
   "source": [
    "cv = cv[(cv['height'] >= bound['height']['lower_bound']) & (cv['height'] <= bound['height']['upper_bound'])]\n",
    "cv = cv[(cv['weight'] >= bound['weight']['lower_bound']) & (cv['weight'] <= bound['height']['upper_bound'])]"
   ]
  },
  {
   "cell_type": "code",
   "execution_count": 16,
   "id": "1968f861",
   "metadata": {},
   "outputs": [
    {
     "data": {
      "text/html": [
       "<div>\n",
       "<style scoped>\n",
       "    .dataframe tbody tr th:only-of-type {\n",
       "        vertical-align: middle;\n",
       "    }\n",
       "\n",
       "    .dataframe tbody tr th {\n",
       "        vertical-align: top;\n",
       "    }\n",
       "\n",
       "    .dataframe thead th {\n",
       "        text-align: right;\n",
       "    }\n",
       "</style>\n",
       "<table border=\"1\" class=\"dataframe\">\n",
       "  <thead>\n",
       "    <tr style=\"text-align: right;\">\n",
       "      <th></th>\n",
       "      <th>id</th>\n",
       "      <th>features</th>\n",
       "      <th>vals</th>\n",
       "    </tr>\n",
       "  </thead>\n",
       "  <tbody>\n",
       "    <tr>\n",
       "      <th>0</th>\n",
       "      <td>0</td>\n",
       "      <td>height</td>\n",
       "      <td>0.444661</td>\n",
       "    </tr>\n",
       "    <tr>\n",
       "      <th>1</th>\n",
       "      <td>1</td>\n",
       "      <td>height</td>\n",
       "      <td>-1.021712</td>\n",
       "    </tr>\n",
       "    <tr>\n",
       "      <th>2</th>\n",
       "      <td>2</td>\n",
       "      <td>height</td>\n",
       "      <td>0.078068</td>\n",
       "    </tr>\n",
       "    <tr>\n",
       "      <th>3</th>\n",
       "      <td>3</td>\n",
       "      <td>height</td>\n",
       "      <td>0.566859</td>\n",
       "    </tr>\n",
       "    <tr>\n",
       "      <th>4</th>\n",
       "      <td>4</td>\n",
       "      <td>height</td>\n",
       "      <td>-1.021712</td>\n",
       "    </tr>\n",
       "    <tr>\n",
       "      <th>...</th>\n",
       "      <td>...</td>\n",
       "      <td>...</td>\n",
       "      <td>...</td>\n",
       "    </tr>\n",
       "    <tr>\n",
       "      <th>137281</th>\n",
       "      <td>99993</td>\n",
       "      <td>weight</td>\n",
       "      <td>0.131257</td>\n",
       "    </tr>\n",
       "    <tr>\n",
       "      <th>137282</th>\n",
       "      <td>99995</td>\n",
       "      <td>weight</td>\n",
       "      <td>3.620115</td>\n",
       "    </tr>\n",
       "    <tr>\n",
       "      <th>137283</th>\n",
       "      <td>99996</td>\n",
       "      <td>weight</td>\n",
       "      <td>2.154795</td>\n",
       "    </tr>\n",
       "    <tr>\n",
       "      <th>137284</th>\n",
       "      <td>99998</td>\n",
       "      <td>weight</td>\n",
       "      <td>-0.147852</td>\n",
       "    </tr>\n",
       "    <tr>\n",
       "      <th>137285</th>\n",
       "      <td>99999</td>\n",
       "      <td>weight</td>\n",
       "      <td>-0.147852</td>\n",
       "    </tr>\n",
       "  </tbody>\n",
       "</table>\n",
       "<p>137286 rows × 3 columns</p>\n",
       "</div>"
      ],
      "text/plain": [
       "           id features      vals\n",
       "0           0   height  0.444661\n",
       "1           1   height -1.021712\n",
       "2           2   height  0.078068\n",
       "3           3   height  0.566859\n",
       "4           4   height -1.021712\n",
       "...       ...      ...       ...\n",
       "137281  99993   weight  0.131257\n",
       "137282  99995   weight  3.620115\n",
       "137283  99996   weight  2.154795\n",
       "137284  99998   weight -0.147852\n",
       "137285  99999   weight -0.147852\n",
       "\n",
       "[137286 rows x 3 columns]"
      ]
     },
     "execution_count": 16,
     "metadata": {},
     "output_type": "execute_result"
    }
   ],
   "source": [
    "cv_melt2 = pd.melt(cv, id_vars=['id'], value_vars = ['height', 'weight'], var_name = 'features', value_name = 'vals')\n",
    "cv_melt2"
   ]
  },
  {
   "cell_type": "code",
   "execution_count": 17,
   "id": "b156e361",
   "metadata": {},
   "outputs": [
    {
     "data": {
      "text/plain": [
       "<AxesSubplot:xlabel='features', ylabel='vals'>"
      ]
     },
     "execution_count": 17,
     "metadata": {},
     "output_type": "execute_result"
    },
    {
     "data": {
      "image/png": "[encoded data removed]",
      "text/plain": [
       "<Figure size 432x288 with 1 Axes>"
      ]
     },
     "metadata": {},
     "output_type": "display_data"
    }
   ],
   "source": [
    "sns.boxplot(x = 'features', y = 'vals', data = cv_melt2)"
   ]
  },
  {
   "cell_type": "markdown",
   "id": "18efd7db",
   "metadata": {},
   "source": [
    "The most extreme outliers are gone from the height and weight columns."
   ]
  },
  {
   "cell_type": "code",
   "execution_count": 18,
   "id": "41e19877",
   "metadata": {},
   "outputs": [
    {
     "data": {
      "text/plain": [
       "(68643, 13)"
      ]
     },
     "execution_count": 18,
     "metadata": {},
     "output_type": "execute_result"
    }
   ],
   "source": [
    "cv.shape"
   ]
  },
  {
   "cell_type": "code",
   "execution_count": 19,
   "id": "722bca8b",
   "metadata": {},
   "outputs": [
    {
     "data": {
      "text/html": [
       "<div>\n",
       "<style scoped>\n",
       "    .dataframe tbody tr th:only-of-type {\n",
       "        vertical-align: middle;\n",
       "    }\n",
       "\n",
       "    .dataframe tbody tr th {\n",
       "        vertical-align: top;\n",
       "    }\n",
       "\n",
       "    .dataframe thead th {\n",
       "        text-align: right;\n",
       "    }\n",
       "</style>\n",
       "<table border=\"1\" class=\"dataframe\">\n",
       "  <thead>\n",
       "    <tr style=\"text-align: right;\">\n",
       "      <th></th>\n",
       "      <th>id</th>\n",
       "      <th>age</th>\n",
       "      <th>gender</th>\n",
       "      <th>height</th>\n",
       "      <th>weight</th>\n",
       "      <th>ap_hi</th>\n",
       "      <th>ap_lo</th>\n",
       "      <th>cholesterol</th>\n",
       "      <th>gluc</th>\n",
       "      <th>smoke</th>\n",
       "      <th>alco</th>\n",
       "      <th>active</th>\n",
       "      <th>cardio</th>\n",
       "    </tr>\n",
       "  </thead>\n",
       "  <tbody>\n",
       "    <tr>\n",
       "      <th>0</th>\n",
       "      <td>0</td>\n",
       "      <td>18393</td>\n",
       "      <td>2</td>\n",
       "      <td>168.0</td>\n",
       "      <td>62.0</td>\n",
       "      <td>110</td>\n",
       "      <td>80</td>\n",
       "      <td>1</td>\n",
       "      <td>1</td>\n",
       "      <td>0</td>\n",
       "      <td>0</td>\n",
       "      <td>1</td>\n",
       "      <td>0</td>\n",
       "    </tr>\n",
       "    <tr>\n",
       "      <th>1</th>\n",
       "      <td>1</td>\n",
       "      <td>20228</td>\n",
       "      <td>1</td>\n",
       "      <td>156.0</td>\n",
       "      <td>85.0</td>\n",
       "      <td>140</td>\n",
       "      <td>90</td>\n",
       "      <td>3</td>\n",
       "      <td>1</td>\n",
       "      <td>0</td>\n",
       "      <td>0</td>\n",
       "      <td>1</td>\n",
       "      <td>1</td>\n",
       "    </tr>\n",
       "    <tr>\n",
       "      <th>2</th>\n",
       "      <td>2</td>\n",
       "      <td>18857</td>\n",
       "      <td>1</td>\n",
       "      <td>165.0</td>\n",
       "      <td>64.0</td>\n",
       "      <td>130</td>\n",
       "      <td>70</td>\n",
       "      <td>3</td>\n",
       "      <td>1</td>\n",
       "      <td>0</td>\n",
       "      <td>0</td>\n",
       "      <td>0</td>\n",
       "      <td>1</td>\n",
       "    </tr>\n",
       "    <tr>\n",
       "      <th>3</th>\n",
       "      <td>3</td>\n",
       "      <td>17623</td>\n",
       "      <td>2</td>\n",
       "      <td>169.0</td>\n",
       "      <td>82.0</td>\n",
       "      <td>150</td>\n",
       "      <td>100</td>\n",
       "      <td>1</td>\n",
       "      <td>1</td>\n",
       "      <td>0</td>\n",
       "      <td>0</td>\n",
       "      <td>1</td>\n",
       "      <td>1</td>\n",
       "    </tr>\n",
       "    <tr>\n",
       "      <th>4</th>\n",
       "      <td>4</td>\n",
       "      <td>17474</td>\n",
       "      <td>1</td>\n",
       "      <td>156.0</td>\n",
       "      <td>56.0</td>\n",
       "      <td>100</td>\n",
       "      <td>60</td>\n",
       "      <td>1</td>\n",
       "      <td>1</td>\n",
       "      <td>0</td>\n",
       "      <td>0</td>\n",
       "      <td>0</td>\n",
       "      <td>0</td>\n",
       "    </tr>\n",
       "  </tbody>\n",
       "</table>\n",
       "</div>"
      ],
      "text/plain": [
       "   id    age  gender  height  weight  ap_hi  ap_lo  cholesterol  gluc  smoke  \\\n",
       "0   0  18393       2   168.0    62.0    110     80            1     1      0   \n",
       "1   1  20228       1   156.0    85.0    140     90            3     1      0   \n",
       "2   2  18857       1   165.0    64.0    130     70            3     1      0   \n",
       "3   3  17623       2   169.0    82.0    150    100            1     1      0   \n",
       "4   4  17474       1   156.0    56.0    100     60            1     1      0   \n",
       "\n",
       "   alco  active  cardio  \n",
       "0     0       1       0  \n",
       "1     0       1       1  \n",
       "2     0       0       1  \n",
       "3     0       1       1  \n",
       "4     0       0       0  "
      ]
     },
     "execution_count": 19,
     "metadata": {},
     "output_type": "execute_result"
    }
   ],
   "source": [
    "# we inverse the scaling on height and weight\n",
    "cv[['height', 'weight']] = scaler.inverse_transform(cv[['height', 'weight']])\n",
    "cv.head()"
   ]
  },
  {
   "cell_type": "markdown",
   "id": "ea2e01c6",
   "metadata": {},
   "source": [
    "# Correlation"
   ]
  },
  {
   "cell_type": "code",
   "execution_count": 20,
   "id": "70d8d6f1",
   "metadata": {},
   "outputs": [
    {
     "data": {
      "text/plain": [
       "<AxesSubplot:>"
      ]
     },
     "execution_count": 20,
     "metadata": {},
     "output_type": "execute_result"
    },
    {
     "data": {
      "image/png": "[encoded data removed]",
      "text/plain": [
       "<Figure size 1080x1080 with 2 Axes>"
      ]
     },
     "metadata": {},
     "output_type": "display_data"
    }
   ],
   "source": [
    "cvc = cv.corr()\n",
    "fig, ax = plt.subplots(figsize = (15,15))\n",
    "sns.heatmap(cvc, annot=True, fmt='.3f', linewidths = 0.5, ax=ax)"
   ]
  },
  {
   "cell_type": "markdown",
   "id": "f20c0dcf",
   "metadata": {},
   "source": [
    "Correlating with `cardio`, `age`, `ap_hi`, `ap_lo` have a good correlation coefficient. Height and weight need to be incorporated in a better manner in the dataset to achieve this. For this purpose, we create a new column, `bmi`."
   ]
  },
  {
   "cell_type": "markdown",
   "id": "d62a512b",
   "metadata": {},
   "source": [
    "BMI is Body Mass Index, and it is measured by dividing one's weight in kg (as we have in `weight`) with their height in m (we can achieve that by dividing `height` by 100), squared."
   ]
  },
  {
   "cell_type": "code",
   "execution_count": 21,
   "id": "2971f11c",
   "metadata": {},
   "outputs": [
    {
     "data": {
      "text/html": [
       "<div>\n",
       "<style scoped>\n",
       "    .dataframe tbody tr th:only-of-type {\n",
       "        vertical-align: middle;\n",
       "    }\n",
       "\n",
       "    .dataframe tbody tr th {\n",
       "        vertical-align: top;\n",
       "    }\n",
       "\n",
       "    .dataframe thead th {\n",
       "        text-align: right;\n",
       "    }\n",
       "</style>\n",
       "<table border=\"1\" class=\"dataframe\">\n",
       "  <thead>\n",
       "    <tr style=\"text-align: right;\">\n",
       "      <th></th>\n",
       "      <th>id</th>\n",
       "      <th>age</th>\n",
       "      <th>gender</th>\n",
       "      <th>height</th>\n",
       "      <th>weight</th>\n",
       "      <th>ap_hi</th>\n",
       "      <th>ap_lo</th>\n",
       "      <th>cholesterol</th>\n",
       "      <th>gluc</th>\n",
       "      <th>smoke</th>\n",
       "      <th>alco</th>\n",
       "      <th>active</th>\n",
       "      <th>cardio</th>\n",
       "    </tr>\n",
       "  </thead>\n",
       "  <tbody>\n",
       "    <tr>\n",
       "      <th>0</th>\n",
       "      <td>0</td>\n",
       "      <td>18393</td>\n",
       "      <td>2</td>\n",
       "      <td>1539.181959</td>\n",
       "      <td>962.661786</td>\n",
       "      <td>110</td>\n",
       "      <td>80</td>\n",
       "      <td>1</td>\n",
       "      <td>1</td>\n",
       "      <td>0</td>\n",
       "      <td>0</td>\n",
       "      <td>1</td>\n",
       "      <td>0</td>\n",
       "    </tr>\n",
       "    <tr>\n",
       "      <th>1</th>\n",
       "      <td>1</td>\n",
       "      <td>20228</td>\n",
       "      <td>1</td>\n",
       "      <td>1440.980472</td>\n",
       "      <td>1292.282530</td>\n",
       "      <td>140</td>\n",
       "      <td>90</td>\n",
       "      <td>3</td>\n",
       "      <td>1</td>\n",
       "      <td>0</td>\n",
       "      <td>0</td>\n",
       "      <td>1</td>\n",
       "      <td>1</td>\n",
       "    </tr>\n",
       "    <tr>\n",
       "      <th>2</th>\n",
       "      <td>2</td>\n",
       "      <td>18857</td>\n",
       "      <td>1</td>\n",
       "      <td>1514.631587</td>\n",
       "      <td>991.324459</td>\n",
       "      <td>130</td>\n",
       "      <td>70</td>\n",
       "      <td>3</td>\n",
       "      <td>1</td>\n",
       "      <td>0</td>\n",
       "      <td>0</td>\n",
       "      <td>0</td>\n",
       "      <td>1</td>\n",
       "    </tr>\n",
       "    <tr>\n",
       "      <th>3</th>\n",
       "      <td>3</td>\n",
       "      <td>17623</td>\n",
       "      <td>2</td>\n",
       "      <td>1547.365416</td>\n",
       "      <td>1249.288520</td>\n",
       "      <td>150</td>\n",
       "      <td>100</td>\n",
       "      <td>1</td>\n",
       "      <td>1</td>\n",
       "      <td>0</td>\n",
       "      <td>0</td>\n",
       "      <td>1</td>\n",
       "      <td>1</td>\n",
       "    </tr>\n",
       "    <tr>\n",
       "      <th>4</th>\n",
       "      <td>4</td>\n",
       "      <td>17474</td>\n",
       "      <td>1</td>\n",
       "      <td>1440.980472</td>\n",
       "      <td>876.673766</td>\n",
       "      <td>100</td>\n",
       "      <td>60</td>\n",
       "      <td>1</td>\n",
       "      <td>1</td>\n",
       "      <td>0</td>\n",
       "      <td>0</td>\n",
       "      <td>0</td>\n",
       "      <td>0</td>\n",
       "    </tr>\n",
       "  </tbody>\n",
       "</table>\n",
       "</div>"
      ],
      "text/plain": [
       "   id    age  gender       height       weight  ap_hi  ap_lo  cholesterol  \\\n",
       "0   0  18393       2  1539.181959   962.661786    110     80            1   \n",
       "1   1  20228       1  1440.980472  1292.282530    140     90            3   \n",
       "2   2  18857       1  1514.631587   991.324459    130     70            3   \n",
       "3   3  17623       2  1547.365416  1249.288520    150    100            1   \n",
       "4   4  17474       1  1440.980472   876.673766    100     60            1   \n",
       "\n",
       "   gluc  smoke  alco  active  cardio  \n",
       "0     1      0     0       1       0  \n",
       "1     1      0     0       1       1  \n",
       "2     1      0     0       0       1  \n",
       "3     1      0     0       1       1  \n",
       "4     1      0     0       0       0  "
      ]
     },
     "execution_count": 21,
     "metadata": {},
     "output_type": "execute_result"
    }
   ],
   "source": [
    "# we inverse the scaling on height and weight first to perform the calculations.\n",
    "cv[['height', 'weight']] = scaler.inverse_transform(cv[['height', 'weight']])\n",
    "cv.head()"
   ]
  },
  {
   "cell_type": "code",
   "execution_count": 22,
   "id": "c0a74064",
   "metadata": {},
   "outputs": [
    {
     "data": {
      "text/html": [
       "<div>\n",
       "<style scoped>\n",
       "    .dataframe tbody tr th:only-of-type {\n",
       "        vertical-align: middle;\n",
       "    }\n",
       "\n",
       "    .dataframe tbody tr th {\n",
       "        vertical-align: top;\n",
       "    }\n",
       "\n",
       "    .dataframe thead th {\n",
       "        text-align: right;\n",
       "    }\n",
       "</style>\n",
       "<table border=\"1\" class=\"dataframe\">\n",
       "  <thead>\n",
       "    <tr style=\"text-align: right;\">\n",
       "      <th></th>\n",
       "      <th>id</th>\n",
       "      <th>age</th>\n",
       "      <th>gender</th>\n",
       "      <th>height</th>\n",
       "      <th>weight</th>\n",
       "      <th>ap_hi</th>\n",
       "      <th>ap_lo</th>\n",
       "      <th>cholesterol</th>\n",
       "      <th>gluc</th>\n",
       "      <th>smoke</th>\n",
       "      <th>alco</th>\n",
       "      <th>active</th>\n",
       "      <th>cardio</th>\n",
       "      <th>bmi</th>\n",
       "    </tr>\n",
       "  </thead>\n",
       "  <tbody>\n",
       "    <tr>\n",
       "      <th>0</th>\n",
       "      <td>0</td>\n",
       "      <td>18393</td>\n",
       "      <td>2</td>\n",
       "      <td>1539.181959</td>\n",
       "      <td>962.661786</td>\n",
       "      <td>110</td>\n",
       "      <td>80</td>\n",
       "      <td>1</td>\n",
       "      <td>1</td>\n",
       "      <td>0</td>\n",
       "      <td>0</td>\n",
       "      <td>1</td>\n",
       "      <td>0</td>\n",
       "      <td>4.063440</td>\n",
       "    </tr>\n",
       "    <tr>\n",
       "      <th>1</th>\n",
       "      <td>1</td>\n",
       "      <td>20228</td>\n",
       "      <td>1</td>\n",
       "      <td>1440.980472</td>\n",
       "      <td>1292.282530</td>\n",
       "      <td>140</td>\n",
       "      <td>90</td>\n",
       "      <td>3</td>\n",
       "      <td>1</td>\n",
       "      <td>0</td>\n",
       "      <td>0</td>\n",
       "      <td>1</td>\n",
       "      <td>1</td>\n",
       "      <td>6.223594</td>\n",
       "    </tr>\n",
       "    <tr>\n",
       "      <th>2</th>\n",
       "      <td>2</td>\n",
       "      <td>18857</td>\n",
       "      <td>1</td>\n",
       "      <td>1514.631587</td>\n",
       "      <td>991.324459</td>\n",
       "      <td>130</td>\n",
       "      <td>70</td>\n",
       "      <td>3</td>\n",
       "      <td>1</td>\n",
       "      <td>0</td>\n",
       "      <td>0</td>\n",
       "      <td>0</td>\n",
       "      <td>1</td>\n",
       "      <td>4.321174</td>\n",
       "    </tr>\n",
       "    <tr>\n",
       "      <th>3</th>\n",
       "      <td>3</td>\n",
       "      <td>17623</td>\n",
       "      <td>2</td>\n",
       "      <td>1547.365416</td>\n",
       "      <td>1249.288520</td>\n",
       "      <td>150</td>\n",
       "      <td>100</td>\n",
       "      <td>1</td>\n",
       "      <td>1</td>\n",
       "      <td>0</td>\n",
       "      <td>0</td>\n",
       "      <td>1</td>\n",
       "      <td>1</td>\n",
       "      <td>5.217674</td>\n",
       "    </tr>\n",
       "    <tr>\n",
       "      <th>4</th>\n",
       "      <td>4</td>\n",
       "      <td>17474</td>\n",
       "      <td>1</td>\n",
       "      <td>1440.980472</td>\n",
       "      <td>876.673766</td>\n",
       "      <td>100</td>\n",
       "      <td>60</td>\n",
       "      <td>1</td>\n",
       "      <td>1</td>\n",
       "      <td>0</td>\n",
       "      <td>0</td>\n",
       "      <td>0</td>\n",
       "      <td>0</td>\n",
       "      <td>4.222035</td>\n",
       "    </tr>\n",
       "  </tbody>\n",
       "</table>\n",
       "</div>"
      ],
      "text/plain": [
       "   id    age  gender       height       weight  ap_hi  ap_lo  cholesterol  \\\n",
       "0   0  18393       2  1539.181959   962.661786    110     80            1   \n",
       "1   1  20228       1  1440.980472  1292.282530    140     90            3   \n",
       "2   2  18857       1  1514.631587   991.324459    130     70            3   \n",
       "3   3  17623       2  1547.365416  1249.288520    150    100            1   \n",
       "4   4  17474       1  1440.980472   876.673766    100     60            1   \n",
       "\n",
       "   gluc  smoke  alco  active  cardio       bmi  \n",
       "0     1      0     0       1       0  4.063440  \n",
       "1     1      0     0       1       1  6.223594  \n",
       "2     1      0     0       0       1  4.321174  \n",
       "3     1      0     0       1       1  5.217674  \n",
       "4     1      0     0       0       0  4.222035  "
      ]
     },
     "execution_count": 22,
     "metadata": {},
     "output_type": "execute_result"
    }
   ],
   "source": [
    "cv['bmi'] = cv['weight']/((cv['height']/100)*(cv['height']/100))\n",
    "cv.head()"
   ]
  },
  {
   "cell_type": "code",
   "execution_count": 23,
   "id": "c87482ba",
   "metadata": {},
   "outputs": [],
   "source": [
    "cv.drop(['height', 'weight'], inplace=True, axis=1)"
   ]
  },
  {
   "cell_type": "code",
   "execution_count": 24,
   "id": "05c5f60d",
   "metadata": {},
   "outputs": [
    {
     "name": "stdout",
     "output_type": "stream",
     "text": [
      "['id', 'age', 'gender', 'ap_hi', 'ap_lo', 'cholesterol', 'gluc', 'smoke', 'alco', 'active', 'cardio', 'bmi']\n"
     ]
    }
   ],
   "source": [
    "print(list(cv.columns.values))"
   ]
  },
  {
   "cell_type": "code",
   "execution_count": 25,
   "id": "d88a1e0c",
   "metadata": {},
   "outputs": [],
   "source": [
    "cv = cv[list(('id', 'age', 'gender', 'bmi', 'ap_hi', 'ap_lo', 'cholesterol', 'gluc', 'smoke', 'alco', 'active', 'cardio'))]"
   ]
  },
  {
   "cell_type": "code",
   "execution_count": 26,
   "id": "3988929b",
   "metadata": {},
   "outputs": [
    {
     "data": {
      "text/plain": [
       "<AxesSubplot:>"
      ]
     },
     "execution_count": 26,
     "metadata": {},
     "output_type": "execute_result"
    },
    {
     "data": {
      "image/png": "[encoded data removed]",
      "text/plain": [
       "<Figure size 1080x1080 with 2 Axes>"
      ]
     },
     "metadata": {},
     "output_type": "display_data"
    }
   ],
   "source": [
    "cvc = cv.corr()\n",
    "fig, ax = plt.subplots(figsize = (15,15))\n",
    "sns.heatmap(cvc, annot=True, fmt='.3f', linewidths = 0.5, ax=ax)"
   ]
  },
  {
   "cell_type": "markdown",
   "id": "7963bdd1",
   "metadata": {},
   "source": [
    "With `bmi`, we have a more consistent statistic that also incorporates the patient's height into account, along with slightly higher correlation too."
   ]
  },
  {
   "cell_type": "markdown",
   "id": "bb033282",
   "metadata": {},
   "source": [
    "#### `gluc` and `cholesterol`,  and probabilities\n",
    "\n",
    "Glucose and cholesterol levels are two quantities that can contribute to cardiovascular disease, and this dataset has `gluc` and `cholesterol` metrics that measure these values for each patient with multiple levels. We can examine this metric to evaluate the increase in probability in getting cardiovascular disease with increases in these metrics."
   ]
  },
  {
   "cell_type": "code",
   "execution_count": 27,
   "id": "742711d2",
   "metadata": {},
   "outputs": [],
   "source": [
    "gluch = cv[['gluc', 'cholesterol', 'cardio']].copy()"
   ]
  },
  {
   "cell_type": "code",
   "execution_count": 28,
   "id": "abf072dc",
   "metadata": {},
   "outputs": [
    {
     "data": {
      "text/plain": [
       "Text(0.02, 0.5, 'Number of people')"
      ]
     },
     "execution_count": 28,
     "metadata": {},
     "output_type": "execute_result"
    },
    {
     "data": {
      "image/png": "[encoded data removed]",
      "text/plain": [
       "<Figure size 864x576 with 4 Axes>"
      ]
     },
     "metadata": {},
     "output_type": "display_data"
    }
   ],
   "source": [
    "fig, axs = plt.subplots(2,2,figsize=(12,8), sharex=True, sharey='row')\n",
    "\n",
    "axs[0,0].hist(gluch[\"gluc\"], bins=3)\n",
    "axs[0,0].set_xlabel(\"Total sorted by glucose level\")\n",
    "\n",
    "axs[0,1].hist(gluch[\"gluc\"].loc[gluch['cardio'] == 1], bins=3)\n",
    "axs[0,1].set_xlabel(\"Only CV-positive cases\")\n",
    "\n",
    "axs[1,0].hist(gluch[\"cholesterol\"], bins=3)\n",
    "axs[1,0].set_xlabel(\"Total sorted by cholesterol level\")\n",
    "\n",
    "axs[1,1].set_xlabel(\"Only CV-positive cases\")\n",
    "axs[1,1].hist(gluch[\"cholesterol\"].loc[gluch['cardio'] == 1], bins=3)\n",
    "\n",
    "fig.supylabel(\"Number of people\") #backspace/comment this out for matplotlib ver < 3.4"
   ]
  },
  {
   "cell_type": "markdown",
   "id": "88ff9489",
   "metadata": {},
   "source": [
    "We can see that as the `gluc` and `cholesterol` values increase from 1, the chances of having cardiovascular disease increases, and we can illustrate that in a much better way using simple probabilities:"
   ]
  },
  {
   "cell_type": "code",
   "execution_count": 29,
   "id": "57e5e488",
   "metadata": {},
   "outputs": [],
   "source": [
    "cardio_pos = gluch.loc[gluch['cardio'] == 1].copy()\n",
    "gl = np.asarray(gluch['gluc'].value_counts(sort=False))\n",
    "gl_pos = np.asarray(cardio_pos['gluc'].value_counts(sort=False))\n",
    "ch = np.asarray(gluch['cholesterol'].value_counts(sort=False))\n",
    "ch_pos = np.asarray(cardio_pos['cholesterol'].value_counts(sort=False))"
   ]
  },
  {
   "cell_type": "code",
   "execution_count": 30,
   "id": "ae0c3891",
   "metadata": {},
   "outputs": [
    {
     "name": "stdout",
     "output_type": "stream",
     "text": [
      "Probabilities:  \n",
      "\n",
      "1. Glucose levels: \n",
      "[1       2       3]\n",
      "[0.476 0.589 0.617] \n",
      "\n",
      "2. Cholesterol levels: \n",
      "[1       2       3]\n",
      "[0.435 0.596 0.762]\n"
     ]
    }
   ],
   "source": [
    "print(\"Probabilities: \", \"\\n\")\n",
    "print(\"1. Glucose levels: \")\n",
    "print(\"[1       2       3]\")\n",
    "glp = np.round(gl_pos/gl, 3)\n",
    "print(glp, \"\\n\")\n",
    "print(\"2. Cholesterol levels: \")\n",
    "print(\"[1       2       3]\")\n",
    "cop = np.round(ch_pos/ch, 3)\n",
    "print(cop)"
   ]
  },
  {
   "cell_type": "markdown",
   "id": "cd32986b",
   "metadata": {},
   "source": [
    "Probability rises fairly steeply when glucose, and especially, cholesterol levels are elevated, and this backs up the original assumption made."
   ]
  },
  {
   "cell_type": "markdown",
   "id": "f4fce8c8",
   "metadata": {},
   "source": [
    "# Train-Test Split and Model Implementation"
   ]
  },
  {
   "cell_type": "code",
   "execution_count": 31,
   "id": "0af6114d",
   "metadata": {},
   "outputs": [
    {
     "data": {
      "text/plain": [
       "array([0, 1, 1, ..., 1, 1, 0], dtype=int64)"
      ]
     },
     "execution_count": 31,
     "metadata": {},
     "output_type": "execute_result"
    }
   ],
   "source": [
    "y = np.asarray(cv['cardio'])\n",
    "y"
   ]
  },
  {
   "cell_type": "code",
   "execution_count": 32,
   "id": "85560d81",
   "metadata": {},
   "outputs": [
    {
     "data": {
      "text/plain": [
       "array([[1.83930000e+04, 2.00000000e+00, 4.06343955e+00, 1.10000000e+02,\n",
       "        8.00000000e+01, 1.00000000e+00, 1.00000000e+00, 0.00000000e+00,\n",
       "        0.00000000e+00, 1.00000000e+00],\n",
       "       [2.02280000e+04, 1.00000000e+00, 6.22359442e+00, 1.40000000e+02,\n",
       "        9.00000000e+01, 3.00000000e+00, 1.00000000e+00, 0.00000000e+00,\n",
       "        0.00000000e+00, 1.00000000e+00],\n",
       "       [1.88570000e+04, 1.00000000e+00, 4.32117448e+00, 1.30000000e+02,\n",
       "        7.00000000e+01, 3.00000000e+00, 1.00000000e+00, 0.00000000e+00,\n",
       "        0.00000000e+00, 0.00000000e+00],\n",
       "       [1.76230000e+04, 2.00000000e+00, 5.21767443e+00, 1.50000000e+02,\n",
       "        1.00000000e+02, 1.00000000e+00, 1.00000000e+00, 0.00000000e+00,\n",
       "        0.00000000e+00, 1.00000000e+00],\n",
       "       [1.74740000e+04, 1.00000000e+00, 4.22203491e+00, 1.00000000e+02,\n",
       "        6.00000000e+01, 1.00000000e+00, 1.00000000e+00, 0.00000000e+00,\n",
       "        0.00000000e+00, 0.00000000e+00]])"
      ]
     },
     "execution_count": 32,
     "metadata": {},
     "output_type": "execute_result"
    }
   ],
   "source": [
    "X = np.asarray(cv[['age', 'gender', 'bmi', 'ap_hi', 'ap_lo', 'cholesterol', 'gluc', 'smoke', 'alco', 'active']])\n",
    "X[0:5]"
   ]
  },
  {
   "cell_type": "code",
   "execution_count": 33,
   "id": "9b369aa7",
   "metadata": {},
   "outputs": [
    {
     "data": {
      "text/plain": [
       "array([[-0.43435757,  1.36688389, -1.0402247 , -0.99897442, -0.13770578,\n",
       "        -0.53720325, -0.39495783, -0.31055752, -0.23739194,  0.49469963],\n",
       "       [ 0.30917332, -0.73159104,  1.38436129,  0.79823542,  0.91876244,\n",
       "         2.40892727, -0.39495783, -0.31055752, -0.23739194,  0.49469963],\n",
       "       [-0.24634758, -0.73159104, -0.75093966,  0.19916547, -1.194174  ,\n",
       "         2.40892727, -0.39495783, -0.31055752, -0.23739194, -2.02142862],\n",
       "       [-0.7463569 ,  1.36688389,  0.25530358,  1.39730536,  1.97523066,\n",
       "        -0.53720325, -0.39495783, -0.31055752, -0.23739194,  0.49469963],\n",
       "       [-0.8067308 , -0.73159104, -0.8622152 , -1.59804437, -2.25064222,\n",
       "        -0.53720325, -0.39495783, -0.31055752, -0.23739194, -2.02142862]])"
      ]
     },
     "execution_count": 33,
     "metadata": {},
     "output_type": "execute_result"
    }
   ],
   "source": [
    "X = preprocessing.StandardScaler().fit(X).transform(X)\n",
    "X[0:5]"
   ]
  },
  {
   "cell_type": "markdown",
   "id": "c8746fea",
   "metadata": {},
   "source": [
    "After splitting the dataset into inputs/known quantities (X) and the variable to predict (y), we split using `scikit-learn`'s `train_test_split`. We use an 80/20 split between `train` and `test` sets, with a `random-state` of 0."
   ]
  },
  {
   "cell_type": "code",
   "execution_count": 34,
   "id": "1581cb80",
   "metadata": {},
   "outputs": [
    {
     "name": "stdout",
     "output_type": "stream",
     "text": [
      "Train set: (54914, 10) (54914,)\n",
      "Test set: (13729, 10) (13729,)\n"
     ]
    }
   ],
   "source": [
    "from sklearn.model_selection import train_test_split\n",
    "X_train, X_test, y_train, y_test = train_test_split( X, y, test_size=0.2, random_state=0)\n",
    "print ('Train set:', X_train.shape,  y_train.shape)\n",
    "print ('Test set:', X_test.shape,  y_test.shape)"
   ]
  },
  {
   "cell_type": "markdown",
   "id": "2d0f32d5",
   "metadata": {},
   "source": [
    "# 1. Logistic Regression\n",
    "\n",
    "The first model we evaluate is a simple Logistic Regression."
   ]
  },
  {
   "cell_type": "code",
   "execution_count": 35,
   "id": "8fd8e404",
   "metadata": {},
   "outputs": [
    {
     "data": {
      "text/plain": [
       "LogisticRegression(C=0.01, solver='sag')"
      ]
     },
     "execution_count": 35,
     "metadata": {},
     "output_type": "execute_result"
    }
   ],
   "source": [
    "from sklearn.linear_model import LogisticRegression\n",
    "LogReg = LogisticRegression(C=0.01, solver='sag').fit(X_train,y_train)\n",
    "LogReg"
   ]
  },
  {
   "cell_type": "code",
   "execution_count": 36,
   "id": "bd91a004",
   "metadata": {},
   "outputs": [
    {
     "data": {
      "text/plain": [
       "array([1, 1, 0, ..., 1, 0, 0], dtype=int64)"
      ]
     },
     "execution_count": 36,
     "metadata": {},
     "output_type": "execute_result"
    }
   ],
   "source": [
    "y_pred_LR = LogReg.predict(X_test)\n",
    "y_pred_LR"
   ]
  },
  {
   "cell_type": "code",
   "execution_count": 37,
   "id": "b87c1003",
   "metadata": {},
   "outputs": [
    {
     "data": {
      "text/plain": [
       "array([[0.21983026, 0.78016974],\n",
       "       [0.13241662, 0.86758338],\n",
       "       [0.86409545, 0.13590455],\n",
       "       ...,\n",
       "       [0.03956907, 0.96043093],\n",
       "       [0.65072571, 0.34927429],\n",
       "       [0.79791602, 0.20208398]])"
      ]
     },
     "execution_count": 37,
     "metadata": {},
     "output_type": "execute_result"
    }
   ],
   "source": [
    "y_pred_LR_prob = LogReg.predict_proba(X_test)\n",
    "y_pred_LR_prob"
   ]
  },
  {
   "cell_type": "markdown",
   "id": "540cee64",
   "metadata": {},
   "source": [
    "There is our logistic regression model, and we can use some evaluation metrics to measure the accuracy of the model. First, we use `classification_report` to give us some basic metrics about the predicted model. \n",
    "\n",
    "1. Precision is a measure of the accuracy, provided that a class label has been predicted. Meaning that it's the correct positive predictions, divided by the total number of positive predictions made, defined by TP / (TP + FP).\n",
    "\n",
    "2. Recall is the true positive rate, or the number of correct positive predictions divided by the actual total positives (predicted+false negatives). Recall = TP / (TP + FN)\n",
    "\n",
    "3. F1-score is the harmonic mean (reciprocal of the mean of the reciprocals) of precision and recall. A perfect F1-score is 1, where both precision and recall are equal to 1."
   ]
  },
  {
   "cell_type": "markdown",
   "id": "e35b7126",
   "metadata": {},
   "source": [
    "We now make a **Confusion Matrix** to visualise our predicted model."
   ]
  },
  {
   "cell_type": "code",
   "execution_count": 38,
   "id": "21c3a14d",
   "metadata": {},
   "outputs": [],
   "source": [
    "from sklearn.metrics import classification_report, confusion_matrix, plot_confusion_matrix\n",
    "import itertools"
   ]
  },
  {
   "cell_type": "code",
   "execution_count": 39,
   "id": "d3592fc7",
   "metadata": {},
   "outputs": [
    {
     "data": {
      "text/plain": [
       "<Figure size 720x360 with 0 Axes>"
      ]
     },
     "metadata": {},
     "output_type": "display_data"
    },
    {
     "data": {
      "image/png": "[encoded data removed]",
      "text/plain": [
       "<Figure size 432x288 with 2 Axes>"
      ]
     },
     "metadata": {},
     "output_type": "display_data"
    }
   ],
   "source": [
    "plt.figure(figsize=(10,5))\n",
    "\n",
    "plot_confusion_matrix(LogReg, X_test, y_test, cmap='Blues', display_labels=['cardio=1','cardio=0'])\n",
    "\n",
    "plt.grid(False)"
   ]
  },
  {
   "cell_type": "code",
   "execution_count": 40,
   "id": "cba06f99",
   "metadata": {},
   "outputs": [
    {
     "data": {
      "text/plain": [
       "<Figure size 720x360 with 0 Axes>"
      ]
     },
     "metadata": {},
     "output_type": "display_data"
    },
    {
     "data": {
      "image/png": "[encoded data removed]",
      "text/plain": [
       "<Figure size 432x288 with 2 Axes>"
      ]
     },
     "metadata": {},
     "output_type": "display_data"
    }
   ],
   "source": [
    "plt.figure(figsize=(10,5))\n",
    "plot_confusion_matrix(LogReg, X_test, y_test, cmap='Blues', display_labels=['cardio=1','cardio=0'])\n",
    "plt.grid(False)"
   ]
  },
  {
   "cell_type": "code",
   "execution_count": 41,
   "id": "3bb37faa",
   "metadata": {},
   "outputs": [
    {
     "name": "stdout",
     "output_type": "stream",
     "text": [
      "              precision    recall  f1-score   support\n",
      "\n",
      "           0       0.70      0.79      0.75      6906\n",
      "           1       0.76      0.66      0.71      6823\n",
      "\n",
      "    accuracy                           0.73     13729\n",
      "   macro avg       0.73      0.73      0.73     13729\n",
      "weighted avg       0.73      0.73      0.73     13729\n",
      "\n"
     ]
    }
   ],
   "source": [
    "from sklearn.metrics import classification_report\n",
    "LR_Report = classification_report(y_test, y_pred_LR)\n",
    "print(LR_Report)"
   ]
  },
  {
   "cell_type": "code",
   "execution_count": 42,
   "id": "43899066",
   "metadata": {},
   "outputs": [
    {
     "data": {
      "text/plain": [
       "0.7272197538058125"
      ]
     },
     "execution_count": 42,
     "metadata": {},
     "output_type": "execute_result"
    }
   ],
   "source": [
    "from sklearn.metrics import accuracy_score\n",
    "a_LR = accuracy_score(y_pred_LR,y_test)\n",
    "a_LR"
   ]
  },
  {
   "cell_type": "markdown",
   "id": "843e3515",
   "metadata": {},
   "source": [
    "# 2. K-nearest neighbour\n",
    "\n",
    "`scikit-learn` has a direct function for k-nearest neighbour classification, however, the process of selecting the value of `k` requires some trial and error. We can use the \"elbow method\" to evaluate the most appropriate value of `k` for our dataset."
   ]
  },
  {
   "cell_type": "code",
   "execution_count": 43,
   "id": "910bc836",
   "metadata": {},
   "outputs": [],
   "source": [
    "#This takes a while, please run with caution\n",
    "from sklearn.neighbors import KNeighborsClassifier\n",
    "error_rate = []\n",
    "\n",
    "for K in range(1,40):\n",
    " \n",
    " knn = KNeighborsClassifier(n_neighbors=K).fit(X_train,y_train)\n",
    " pred_k = knn.predict(X_test)\n",
    " error_rate.append(np.mean(pred_k != y_test))"
   ]
  },
  {
   "cell_type": "code",
   "execution_count": 44,
   "id": "6b24a2ef",
   "metadata": {},
   "outputs": [
    {
     "data": {
      "text/plain": [
       "Text(0, 0.5, 'Error Rate')"
      ]
     },
     "execution_count": 44,
     "metadata": {},
     "output_type": "execute_result"
    },
    {
     "data": {
      "image/png": "[encoded data removed]",
      "text/plain": [
       "<Figure size 720x432 with 1 Axes>"
      ]
     },
     "metadata": {},
     "output_type": "display_data"
    }
   ],
   "source": [
    "plt.figure(figsize=(10,6))\n",
    "plt.plot(range(1,40),error_rate,color='blue', marker='o',\n",
    " markerfacecolor='red', markersize=10)\n",
    "plt.title('Error Rate vs. K Value')\n",
    "plt.xlabel('K')\n",
    "plt.ylabel('Error Rate')"
   ]
  },
  {
   "cell_type": "code",
   "execution_count": 45,
   "id": "748f854f",
   "metadata": {},
   "outputs": [
    {
     "name": "stdout",
     "output_type": "stream",
     "text": [
      "34 0.27467404763639014\n"
     ]
    }
   ],
   "source": [
    "print(error_rate.index(min(error_rate)), min(error_rate))"
   ]
  },
  {
   "cell_type": "markdown",
   "id": "d18abe8c",
   "metadata": {},
   "source": [
    "The graph shows that as K increases past 5, the error rate stops decreasing precipitously and becomes a more gradual trend. Since we can find the minimum error rate from the calculated data, we can use the best K-value for our test data. Thus, K is 34+1 = **35**"
   ]
  },
  {
   "cell_type": "code",
   "execution_count": 46,
   "id": "586c32c3",
   "metadata": {},
   "outputs": [
    {
     "data": {
      "text/plain": [
       "KNeighborsClassifier(n_neighbors=35)"
      ]
     },
     "execution_count": 46,
     "metadata": {},
     "output_type": "execute_result"
    }
   ],
   "source": [
    "from sklearn.neighbors import KNeighborsClassifier\n",
    "k = 35\n",
    "knn = KNeighborsClassifier(n_neighbors = k).fit(X_train,y_train)\n",
    "knn"
   ]
  },
  {
   "cell_type": "markdown",
   "id": "69a8bc1c",
   "metadata": {},
   "source": [
    "With the ideal value for `k` with us, we can proceed like we did previously with the Logistic Regression, with a confusion matrix and a report. Saving these, we will proceed further and compare our models in the end."
   ]
  },
  {
   "cell_type": "code",
   "execution_count": 47,
   "id": "d87c1a4c",
   "metadata": {},
   "outputs": [
    {
     "data": {
      "text/plain": [
       "array([1, 1, 0, ..., 1, 0, 0], dtype=int64)"
      ]
     },
     "execution_count": 47,
     "metadata": {},
     "output_type": "execute_result"
    }
   ],
   "source": [
    "y_pred_KNN = knn.predict(X_test)\n",
    "y_pred_KNN"
   ]
  },
  {
   "cell_type": "code",
   "execution_count": 48,
   "id": "9a2f43af",
   "metadata": {},
   "outputs": [
    {
     "data": {
      "text/plain": [
       "array([[0.22857143, 0.77142857],\n",
       "       [0.17142857, 0.82857143],\n",
       "       [0.88571429, 0.11428571],\n",
       "       ...,\n",
       "       [0.14285714, 0.85714286],\n",
       "       [0.71428571, 0.28571429],\n",
       "       [0.88571429, 0.11428571]])"
      ]
     },
     "execution_count": 48,
     "metadata": {},
     "output_type": "execute_result"
    }
   ],
   "source": [
    "y_pred_KNN_prob = knn.predict_proba(X_test)\n",
    "y_pred_KNN_prob"
   ]
  },
  {
   "cell_type": "code",
   "execution_count": 49,
   "id": "d142b132",
   "metadata": {},
   "outputs": [
    {
     "name": "stdout",
     "output_type": "stream",
     "text": [
      "[[4604 2219]\n",
      " [1552 5354]]\n"
     ]
    }
   ],
   "source": [
    "print(confusion_matrix(y_test, y_pred_KNN, labels=[1,0]))"
   ]
  },
  {
   "cell_type": "code",
   "execution_count": 50,
   "id": "d8de5cf5",
   "metadata": {},
   "outputs": [
    {
     "data": {
      "text/plain": [
       "<Figure size 720x360 with 0 Axes>"
      ]
     },
     "metadata": {},
     "output_type": "display_data"
    },
    {
     "data": {
      "image/png": "[encoded data removed]",
      "text/plain": [
       "<Figure size 432x288 with 2 Axes>"
      ]
     },
     "metadata": {},
     "output_type": "display_data"
    }
   ],
   "source": [
    "plt.figure(figsize=(10,5))\n",
    "plot_confusion_matrix(knn, X_test, y_test, cmap='Blues', display_labels=['cardio=1','cardio=0'])\n",
    "plt.grid(False)"
   ]
  },
  {
   "cell_type": "code",
   "execution_count": 51,
   "id": "83fbdae9",
   "metadata": {},
   "outputs": [
    {
     "name": "stdout",
     "output_type": "stream",
     "text": [
      "              precision    recall  f1-score   support\n",
      "\n",
      "           0       0.71      0.78      0.74      6906\n",
      "           1       0.75      0.67      0.71      6823\n",
      "\n",
      "    accuracy                           0.73     13729\n",
      "   macro avg       0.73      0.73      0.72     13729\n",
      "weighted avg       0.73      0.73      0.72     13729\n",
      "\n"
     ]
    }
   ],
   "source": [
    "KNN_Report = classification_report(y_test, y_pred_KNN)\n",
    "print(KNN_Report)"
   ]
  },
  {
   "cell_type": "code",
   "execution_count": 52,
   "id": "0fac47dc",
   "metadata": {},
   "outputs": [
    {
     "data": {
      "text/plain": [
       "0.7253259523636099"
      ]
     },
     "execution_count": 52,
     "metadata": {},
     "output_type": "execute_result"
    }
   ],
   "source": [
    "a_KNN = accuracy_score(y_pred_KNN,y_test)\n",
    "a_KNN"
   ]
  },
  {
   "cell_type": "markdown",
   "id": "9e25affb",
   "metadata": {},
   "source": [
    "# 3. Neural Network\n",
    "\n",
    "The third model we use on our dataset is a simple Artifical Neural Network made using `keras`. Our dataset is sufficiently large to expect reasonable results from the neural network model. We use the Adam optimisation algorithm."
   ]
  },
  {
   "cell_type": "code",
   "execution_count": 53,
   "id": "c681d3fb",
   "metadata": {},
   "outputs": [],
   "source": [
    "from keras.models import Sequential\n",
    "from keras.layers import Dense, Dropout\n",
    "from keras.optimizers import Adam"
   ]
  },
  {
   "cell_type": "code",
   "execution_count": 54,
   "id": "1515a7c9",
   "metadata": {},
   "outputs": [],
   "source": [
    "ann = Sequential()\n",
    "\n",
    "ann.add(Dense(units=32, kernel_initializer='glorot_uniform', activation='relu'))\n",
    "    \n",
    "ann.add(Dense(units=64, kernel_initializer='glorot_uniform', activation='relu'))\n",
    "ann.add(Dropout(rate=0.5))\n",
    "ann.add(Dense(units=64, kernel_initializer='glorot_uniform', activation='relu'))\n",
    "ann.add(Dropout(rate=0.5))\n",
    " \n",
    "ann.add(Dense(units=1, kernel_initializer='glorot_uniform', activation='sigmoid'))\n",
    "\n",
    "opt = Adam(learning_rate=0.002)\n",
    "\n",
    "ann.compile(optimizer=opt, loss='binary_crossentropy', metrics=['accuracy'])    "
   ]
  },
  {
   "cell_type": "code",
   "execution_count": null,
   "id": "892d0957",
   "metadata": {},
   "outputs": [
    {
     "name": "stdout",
     "output_type": "stream",
     "text": [
      "Epoch 1/100\n",
      "430/430 [==============================] - 22s 4ms/step - loss: 0.5990 - accuracy: 0.6878 - val_loss: 0.5557 - val_accuracy: 0.7296\n",
      "Epoch 2/100\n",
      "430/430 [==============================] - 1s 2ms/step - loss: 0.5620 - accuracy: 0.7268 - val_loss: 0.5512 - val_accuracy: 0.7324\n",
      "Epoch 3/100\n",
      "430/430 [==============================] - 1s 2ms/step - loss: 0.5533 - accuracy: 0.7337 - val_loss: 0.5500 - val_accuracy: 0.7348\n",
      "Epoch 4/100\n",
      "430/430 [==============================] - 1s 2ms/step - loss: 0.5604 - accuracy: 0.7255 - val_loss: 0.5489 - val_accuracy: 0.7352\n",
      "Epoch 5/100\n",
      "430/430 [==============================] - 1s 2ms/step - loss: 0.5527 - accuracy: 0.7329 - val_loss: 0.5518 - val_accuracy: 0.7307\n",
      "Epoch 6/100\n",
      "430/430 [==============================] - 1s 2ms/step - loss: 0.5526 - accuracy: 0.7322 - val_loss: 0.5499 - val_accuracy: 0.7340\n",
      "Epoch 7/100\n",
      "430/430 [==============================] - 1s 2ms/step - loss: 0.5487 - accuracy: 0.7349 - val_loss: 0.5482 - val_accuracy: 0.7333\n",
      "Epoch 8/100\n",
      "430/430 [==============================] - 1s 2ms/step - loss: 0.5503 - accuracy: 0.7336 - val_loss: 0.5475 - val_accuracy: 0.7330\n",
      "Epoch 9/100\n",
      "430/430 [==============================] - 1s 2ms/step - loss: 0.5551 - accuracy: 0.7296 - val_loss: 0.5494 - val_accuracy: 0.7341\n",
      "Epoch 10/100\n",
      "430/430 [==============================] - 1s 2ms/step - loss: 0.5541 - accuracy: 0.7281 - val_loss: 0.5477 - val_accuracy: 0.7343\n",
      "Epoch 11/100\n",
      "430/430 [==============================] - 1s 2ms/step - loss: 0.5460 - accuracy: 0.7361 - val_loss: 0.5484 - val_accuracy: 0.7326\n",
      "Epoch 12/100\n",
      "430/430 [==============================] - 1s 2ms/step - loss: 0.5496 - accuracy: 0.7341 - val_loss: 0.5467 - val_accuracy: 0.7332\n",
      "Epoch 13/100\n",
      "430/430 [==============================] - 1s 2ms/step - loss: 0.5472 - accuracy: 0.7347 - val_loss: 0.5463 - val_accuracy: 0.7350\n",
      "Epoch 14/100\n",
      "430/430 [==============================] - 1s 2ms/step - loss: 0.5487 - accuracy: 0.7340 - val_loss: 0.5468 - val_accuracy: 0.7292\n",
      "Epoch 15/100\n",
      "430/430 [==============================] - 1s 2ms/step - loss: 0.5480 - accuracy: 0.7324 - val_loss: 0.5465 - val_accuracy: 0.7336\n",
      "Epoch 16/100\n",
      "430/430 [==============================] - 1s 2ms/step - loss: 0.5499 - accuracy: 0.7344 - val_loss: 0.5478 - val_accuracy: 0.7317\n",
      "Epoch 17/100\n",
      "430/430 [==============================] - 1s 2ms/step - loss: 0.5477 - accuracy: 0.7358 - val_loss: 0.5470 - val_accuracy: 0.7307\n",
      "Epoch 18/100\n",
      "430/430 [==============================] - 1s 2ms/step - loss: 0.5504 - accuracy: 0.7294 - val_loss: 0.5455 - val_accuracy: 0.7344\n",
      "Epoch 19/100\n",
      "430/430 [==============================] - 1s 2ms/step - loss: 0.5472 - accuracy: 0.7364 - val_loss: 0.5468 - val_accuracy: 0.7331\n",
      "Epoch 20/100\n",
      "430/430 [==============================] - 1s 2ms/step - loss: 0.5487 - accuracy: 0.7336 - val_loss: 0.5459 - val_accuracy: 0.7335\n",
      "Epoch 21/100\n",
      "430/430 [==============================] - 1s 2ms/step - loss: 0.5485 - accuracy: 0.7343 - val_loss: 0.5471 - val_accuracy: 0.7339\n",
      "Epoch 22/100\n",
      "430/430 [==============================] - 1s 2ms/step - loss: 0.5496 - accuracy: 0.7321 - val_loss: 0.5467 - val_accuracy: 0.7329\n",
      "Epoch 23/100\n",
      "430/430 [==============================] - 1s 2ms/step - loss: 0.5471 - accuracy: 0.7335 - val_loss: 0.5466 - val_accuracy: 0.7329\n",
      "Epoch 24/100\n",
      "430/430 [==============================] - 1s 2ms/step - loss: 0.5456 - accuracy: 0.7365 - val_loss: 0.5471 - val_accuracy: 0.7322\n",
      "Epoch 25/100\n",
      "430/430 [==============================] - 1s 2ms/step - loss: 0.5450 - accuracy: 0.7343 - val_loss: 0.5474 - val_accuracy: 0.7334\n",
      "Epoch 26/100\n",
      "430/430 [==============================] - 1s 2ms/step - loss: 0.5453 - accuracy: 0.7370 - val_loss: 0.5486 - val_accuracy: 0.7319\n",
      "Epoch 27/100\n",
      "430/430 [==============================] - 1s 2ms/step - loss: 0.5472 - accuracy: 0.7339 - val_loss: 0.5465 - val_accuracy: 0.7338\n",
      "Epoch 28/100\n",
      "430/430 [==============================] - 1s 2ms/step - loss: 0.5451 - accuracy: 0.7356 - val_loss: 0.5466 - val_accuracy: 0.7334\n",
      "Epoch 29/100\n",
      "430/430 [==============================] - 1s 2ms/step - loss: 0.5420 - accuracy: 0.7372 - val_loss: 0.5462 - val_accuracy: 0.7335\n",
      "Epoch 30/100\n",
      "430/430 [==============================] - 1s 2ms/step - loss: 0.5450 - accuracy: 0.7383 - val_loss: 0.5477 - val_accuracy: 0.7308\n",
      "Epoch 31/100\n",
      "430/430 [==============================] - 1s 2ms/step - loss: 0.5469 - accuracy: 0.7350 - val_loss: 0.5475 - val_accuracy: 0.7322\n",
      "Epoch 32/100\n",
      "430/430 [==============================] - 1s 2ms/step - loss: 0.5449 - accuracy: 0.7362 - val_loss: 0.5462 - val_accuracy: 0.7347\n",
      "Epoch 33/100\n",
      "430/430 [==============================] - 1s 2ms/step - loss: 0.5458 - accuracy: 0.7368 - val_loss: 0.5478 - val_accuracy: 0.7320\n",
      "Epoch 34/100\n",
      "430/430 [==============================] - 1s 2ms/step - loss: 0.5457 - accuracy: 0.7363 - val_loss: 0.5466 - val_accuracy: 0.7324\n",
      "Epoch 35/100\n",
      "430/430 [==============================] - 1s 2ms/step - loss: 0.5466 - accuracy: 0.7311 - val_loss: 0.5462 - val_accuracy: 0.7338\n",
      "Epoch 36/100\n",
      "430/430 [==============================] - 1s 2ms/step - loss: 0.5438 - accuracy: 0.7384 - val_loss: 0.5470 - val_accuracy: 0.7314\n",
      "Epoch 37/100\n",
      "430/430 [==============================] - 1s 2ms/step - loss: 0.5373 - accuracy: 0.7395 - val_loss: 0.5482 - val_accuracy: 0.7305\n",
      "Epoch 38/100\n",
      "430/430 [==============================] - 1s 2ms/step - loss: 0.5458 - accuracy: 0.7352 - val_loss: 0.5461 - val_accuracy: 0.7315\n",
      "Epoch 39/100\n",
      "430/430 [==============================] - 1s 2ms/step - loss: 0.5424 - accuracy: 0.7366 - val_loss: 0.5477 - val_accuracy: 0.7318\n",
      "Epoch 40/100\n",
      "430/430 [==============================] - 1s 2ms/step - loss: 0.5449 - accuracy: 0.7341 - val_loss: 0.5467 - val_accuracy: 0.7314\n",
      "Epoch 41/100\n",
      "430/430 [==============================] - 1s 2ms/step - loss: 0.5442 - accuracy: 0.7363 - val_loss: 0.5475 - val_accuracy: 0.7314\n",
      "Epoch 42/100\n",
      "430/430 [==============================] - 1s 2ms/step - loss: 0.5433 - accuracy: 0.7374 - val_loss: 0.5473 - val_accuracy: 0.7317\n",
      "Epoch 43/100\n",
      "430/430 [==============================] - 1s 2ms/step - loss: 0.5458 - accuracy: 0.7356 - val_loss: 0.5488 - val_accuracy: 0.7306\n",
      "Epoch 44/100\n",
      "430/430 [==============================] - 1s 2ms/step - loss: 0.5403 - accuracy: 0.7393 - val_loss: 0.5473 - val_accuracy: 0.7314\n",
      "Epoch 45/100\n",
      "430/430 [==============================] - 1s 2ms/step - loss: 0.5453 - accuracy: 0.7355 - val_loss: 0.5481 - val_accuracy: 0.7315\n",
      "Epoch 46/100\n",
      "430/430 [==============================] - 1s 2ms/step - loss: 0.5455 - accuracy: 0.7359 - val_loss: 0.5465 - val_accuracy: 0.7336\n",
      "Epoch 47/100\n",
      "430/430 [==============================] - 1s 2ms/step - loss: 0.5425 - accuracy: 0.7349 - val_loss: 0.5481 - val_accuracy: 0.7325\n",
      "Epoch 48/100\n",
      "430/430 [==============================] - 1s 2ms/step - loss: 0.5465 - accuracy: 0.7354 - val_loss: 0.5495 - val_accuracy: 0.7306\n",
      "Epoch 49/100\n",
      "430/430 [==============================] - 1s 2ms/step - loss: 0.5415 - accuracy: 0.7388 - val_loss: 0.5475 - val_accuracy: 0.7319\n",
      "Epoch 50/100\n",
      "430/430 [==============================] - 1s 2ms/step - loss: 0.5441 - accuracy: 0.7349 - val_loss: 0.5475 - val_accuracy: 0.7309\n",
      "Epoch 51/100\n",
      "430/430 [==============================] - 1s 2ms/step - loss: 0.5425 - accuracy: 0.7371 - val_loss: 0.5471 - val_accuracy: 0.7326\n",
      "Epoch 52/100\n",
      "430/430 [==============================] - 1s 2ms/step - loss: 0.5415 - accuracy: 0.7371 - val_loss: 0.5470 - val_accuracy: 0.7334\n",
      "Epoch 53/100\n",
      "430/430 [==============================] - 1s 2ms/step - loss: 0.5418 - accuracy: 0.7370 - val_loss: 0.5492 - val_accuracy: 0.7304\n",
      "Epoch 54/100\n",
      "430/430 [==============================] - 1s 2ms/step - loss: 0.5405 - accuracy: 0.7360 - val_loss: 0.5470 - val_accuracy: 0.7340\n",
      "Epoch 55/100\n",
      "430/430 [==============================] - 1s 2ms/step - loss: 0.5402 - accuracy: 0.7382 - val_loss: 0.5487 - val_accuracy: 0.7310\n",
      "Epoch 56/100\n",
      "430/430 [==============================] - 1s 2ms/step - loss: 0.5455 - accuracy: 0.7351 - val_loss: 0.5473 - val_accuracy: 0.7339\n",
      "Epoch 57/100\n",
      "430/430 [==============================] - 1s 2ms/step - loss: 0.5427 - accuracy: 0.7350 - val_loss: 0.5479 - val_accuracy: 0.7314\n"
     ]
    },
    {
     "name": "stdout",
     "output_type": "stream",
     "text": [
      "Epoch 58/100\n",
      "430/430 [==============================] - 1s 2ms/step - loss: 0.5433 - accuracy: 0.7379 - val_loss: 0.5475 - val_accuracy: 0.7344\n",
      "Epoch 59/100\n",
      "430/430 [==============================] - 1s 2ms/step - loss: 0.5436 - accuracy: 0.7352 - val_loss: 0.5482 - val_accuracy: 0.7329\n",
      "Epoch 60/100\n",
      "430/430 [==============================] - 1s 2ms/step - loss: 0.5456 - accuracy: 0.7348 - val_loss: 0.5486 - val_accuracy: 0.7296\n",
      "Epoch 61/100\n",
      "430/430 [==============================] - 1s 2ms/step - loss: 0.5459 - accuracy: 0.7357 - val_loss: 0.5484 - val_accuracy: 0.7333\n",
      "Epoch 62/100\n",
      "430/430 [==============================] - 1s 2ms/step - loss: 0.5437 - accuracy: 0.7366 - val_loss: 0.5498 - val_accuracy: 0.7306\n",
      "Epoch 63/100\n",
      "430/430 [==============================] - 1s 2ms/step - loss: 0.5388 - accuracy: 0.7406 - val_loss: 0.5482 - val_accuracy: 0.7287\n",
      "Epoch 64/100\n",
      "430/430 [==============================] - 1s 2ms/step - loss: 0.5433 - accuracy: 0.7375 - val_loss: 0.5492 - val_accuracy: 0.7309\n",
      "Epoch 65/100\n",
      "430/430 [==============================] - 1s 2ms/step - loss: 0.5417 - accuracy: 0.7405 - val_loss: 0.5477 - val_accuracy: 0.7317\n",
      "Epoch 66/100\n",
      "430/430 [==============================] - 1s 2ms/step - loss: 0.5403 - accuracy: 0.7381 - val_loss: 0.5502 - val_accuracy: 0.7290\n",
      "Epoch 67/100\n",
      "430/430 [==============================] - 1s 2ms/step - loss: 0.5443 - accuracy: 0.7371 - val_loss: 0.5483 - val_accuracy: 0.7300\n",
      "Epoch 68/100\n",
      "430/430 [==============================] - 1s 2ms/step - loss: 0.5497 - accuracy: 0.7310 - val_loss: 0.5474 - val_accuracy: 0.7310\n",
      "Epoch 69/100\n",
      "430/430 [==============================] - 1s 2ms/step - loss: 0.5415 - accuracy: 0.7359 - val_loss: 0.5490 - val_accuracy: 0.7306\n",
      "Epoch 70/100\n",
      "430/430 [==============================] - 1s 2ms/step - loss: 0.5446 - accuracy: 0.7348 - val_loss: 0.5481 - val_accuracy: 0.7285\n",
      "Epoch 71/100\n",
      "430/430 [==============================] - 1s 2ms/step - loss: 0.5431 - accuracy: 0.7348 - val_loss: 0.5492 - val_accuracy: 0.7330\n",
      "Epoch 72/100\n",
      "430/430 [==============================] - 1s 2ms/step - loss: 0.5410 - accuracy: 0.7402 - val_loss: 0.5476 - val_accuracy: 0.7330\n",
      "Epoch 73/100\n",
      "409/430 [===========================>..] - ETA: 0s - loss: 0.5448 - accuracy: 0.7373"
     ]
    }
   ],
   "source": [
    "history = ann.fit(np.asarray(X_train), np.asarray(y_train), batch_size = 128, epochs = 100, validation_data=(np.asarray(X_test), np.asarray(y_test)))"
   ]
  },
  {
   "cell_type": "code",
   "execution_count": null,
   "id": "0dc21d2e",
   "metadata": {},
   "outputs": [],
   "source": [
    "print(history.history.keys())"
   ]
  },
  {
   "cell_type": "code",
   "execution_count": null,
   "id": "dba382ad",
   "metadata": {},
   "outputs": [],
   "source": [
    "plt.plot(history.history['accuracy'])\n",
    "plt.plot(history.history['val_accuracy'])\n",
    "plt.title('model accuracy')\n",
    "plt.ylabel('accuracy')\n",
    "plt.xlabel('epoch')\n",
    "plt.legend(['train', 'test'], loc='upper left')\n",
    "plt.show()"
   ]
  },
  {
   "cell_type": "code",
   "execution_count": null,
   "id": "c9cbabd6",
   "metadata": {},
   "outputs": [],
   "source": [
    "plt.plot(history.history['loss'])\n",
    "plt.plot(history.history['val_loss'])\n",
    "plt.title('model loss')\n",
    "plt.ylabel('loss')\n",
    "plt.xlabel('epoch')\n",
    "plt.legend(['train', 'test'], loc='upper left')\n",
    "plt.show()"
   ]
  },
  {
   "cell_type": "code",
   "execution_count": null,
   "id": "222b9ee1",
   "metadata": {},
   "outputs": [],
   "source": [
    "y_pred_NN = (ann.predict(X_test) > 0.5)*1\n",
    "y_pred_NN"
   ]
  },
  {
   "cell_type": "code",
   "execution_count": null,
   "id": "0db52b33",
   "metadata": {},
   "outputs": [],
   "source": [
    "a_NN = accuracy_score(y_pred_NN,y_test)\n",
    "a_NN"
   ]
  },
  {
   "cell_type": "code",
   "execution_count": null,
   "id": "0d62c4ec",
   "metadata": {},
   "outputs": [],
   "source": [
    "ANN_Report = classification_report(y_test, y_pred_NN)\n",
    "print(ANN_Report)"
   ]
  },
  {
   "cell_type": "code",
   "execution_count": null,
   "id": "26f94dc3",
   "metadata": {},
   "outputs": [],
   "source": [
    "#Since plot_confusion_matrix does not work with non-classifiers (like the NN model), this function is solely for a confusion\n",
    "#matrix for the NN.\n",
    "def NN_confusion_matrix(cm, classes,\n",
    "                          normalize=False,\n",
    "                          title='Confusion matrix',\n",
    "                          cmap=plt.cm.Blues):\n",
    "    if normalize:\n",
    "        cm = cm.astype('float') / cm.sum(axis=1)[:, np.newaxis]\n",
    "        print(\"Normalized confusion matrix\")\n",
    "    else:\n",
    "        print('Confusion matrix, without normalization')\n",
    "\n",
    "    print(cm)\n",
    "\n",
    "    plt.imshow(cm, interpolation='nearest', cmap=cmap)\n",
    "    plt.title(title)\n",
    "    plt.colorbar()\n",
    "    plt.grid(False)\n",
    "    tick_marks = np.arange(len(classes))\n",
    "    plt.xticks(tick_marks, classes, rotation=45)\n",
    "    plt.yticks(tick_marks, classes)\n",
    "\n",
    "    fmt = '.2f' if normalize else 'd'\n",
    "    thresh = cm.max() / 2.\n",
    "    for i, j in itertools.product(range(cm.shape[0]), range(cm.shape[1])):\n",
    "        plt.text(j, i, format(cm[i, j], fmt),\n",
    "                 horizontalalignment=\"center\",\n",
    "                 color=\"white\" if cm[i, j] > thresh else \"black\")\n",
    "\n",
    "    plt.tight_layout()\n",
    "    plt.ylabel('True label')\n",
    "    plt.xlabel('Predicted label')"
   ]
  },
  {
   "cell_type": "code",
   "execution_count": null,
   "id": "ceee1837",
   "metadata": {},
   "outputs": [],
   "source": [
    "cnf_matrix_nn = confusion_matrix(y_test, y_pred_LR, labels=[1,0])\n",
    "\n",
    "plt.figure()\n",
    "NN_confusion_matrix(cnf_matrix_nn, classes=['cardio=1','cardio=0'],normalize= False,  title='Confusion matrix')"
   ]
  },
  {
   "cell_type": "markdown",
   "id": "77d209b9",
   "metadata": {},
   "source": [
    "# Comparision between models\n",
    "\n",
    "We now have 3 models and the necessary evaluation metrics we need to compare them with each other. First, we will visualise the confusion matrices at a glance."
   ]
  },
  {
   "cell_type": "code",
   "execution_count": null,
   "id": "0fb79af3",
   "metadata": {},
   "outputs": [],
   "source": [
    "#fig, axs = plt.subplots(1,2,figsize=(12,8))\n",
    "\n",
    "plot_confusion_matrix(LogReg, X_test, y_test, cmap='Blues', display_labels=['cardio=1','cardio=0'])\n",
    "plt.grid(False)\n",
    "plot_confusion_matrix(knn, X_test, y_test, cmap='Blues', display_labels=['cardio=1','cardio=0'])\n",
    "plt.grid(False)"
   ]
  },
  {
   "cell_type": "code",
   "execution_count": null,
   "id": "4d5ef179",
   "metadata": {},
   "outputs": [],
   "source": [
    "NN_confusion_matrix(cnf_matrix_nn, classes=['cardio=1','cardio=0'],normalize= False,  title='Confusion matrix')"
   ]
  },
  {
   "cell_type": "markdown",
   "id": "4f92b66a",
   "metadata": {},
   "source": [
    "Plotting accuracies against each other:"
   ]
  },
  {
   "cell_type": "code",
   "execution_count": null,
   "id": "249fd0a3",
   "metadata": {},
   "outputs": [],
   "source": [
    "accu = {}\n",
    "accu[\"LR\"] = a_LR*100\n",
    "accu[\"KNN\"] = a_KNN*100\n",
    "accu[\"ANN\"] = a_NN*100\n",
    "accu"
   ]
  },
  {
   "cell_type": "code",
   "execution_count": null,
   "id": "fa753036",
   "metadata": {},
   "outputs": [],
   "source": [
    "plt.figure(figsize=(16,5))\n",
    "sns.barplot(x=list(accu.keys()), y=list(accu.values()), palette='mako')\n"
   ]
  }
 ],
 "metadata": {
  "kernelspec": {
   "display_name": "Python 3",
   "language": "python",
   "name": "python3"
  },
  "language_info": {
   "codemirror_mode": {
    "name": "ipython",
    "version": 3
   },
   "file_extension": ".py",
   "mimetype": "text/x-python",
   "name": "python",
   "nbconvert_exporter": "python",
   "pygments_lexer": "ipython3",
   "version": "3.8.8"
  }
 },
 "nbformat": 4,
 "nbformat_minor": 5
}
